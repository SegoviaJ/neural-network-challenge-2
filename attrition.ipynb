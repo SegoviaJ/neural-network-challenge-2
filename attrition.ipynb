{
 "cells": [
  {
   "cell_type": "markdown",
   "metadata": {
    "id": "alIIEHibGc3M"
   },
   "source": [
    "## Part 1: Preprocessing"
   ]
  },
  {
   "cell_type": "code",
   "execution_count": 1,
   "metadata": {
    "colab": {
     "base_uri": "https://localhost:8080/",
     "height": 325
    },
    "executionInfo": {
     "elapsed": 12323,
     "status": "ok",
     "timestamp": 1730699226906,
     "user": {
      "displayName": "Alexander Booth",
      "userId": "02269714993535573104"
     },
     "user_tz": 360
    },
    "id": "6eDUJ4NtGc3P",
    "outputId": "eeae54b5-3d17-442d-94ba-00dd55b89964"
   },
   "outputs": [
    {
     "data": {
      "text/html": [
       "<div>\n",
       "<style scoped>\n",
       "    .dataframe tbody tr th:only-of-type {\n",
       "        vertical-align: middle;\n",
       "    }\n",
       "\n",
       "    .dataframe tbody tr th {\n",
       "        vertical-align: top;\n",
       "    }\n",
       "\n",
       "    .dataframe thead th {\n",
       "        text-align: right;\n",
       "    }\n",
       "</style>\n",
       "<table border=\"1\" class=\"dataframe\">\n",
       "  <thead>\n",
       "    <tr style=\"text-align: right;\">\n",
       "      <th></th>\n",
       "      <th>Age</th>\n",
       "      <th>Attrition</th>\n",
       "      <th>BusinessTravel</th>\n",
       "      <th>Department</th>\n",
       "      <th>DistanceFromHome</th>\n",
       "      <th>Education</th>\n",
       "      <th>EducationField</th>\n",
       "      <th>EnvironmentSatisfaction</th>\n",
       "      <th>HourlyRate</th>\n",
       "      <th>JobInvolvement</th>\n",
       "      <th>...</th>\n",
       "      <th>PerformanceRating</th>\n",
       "      <th>RelationshipSatisfaction</th>\n",
       "      <th>StockOptionLevel</th>\n",
       "      <th>TotalWorkingYears</th>\n",
       "      <th>TrainingTimesLastYear</th>\n",
       "      <th>WorkLifeBalance</th>\n",
       "      <th>YearsAtCompany</th>\n",
       "      <th>YearsInCurrentRole</th>\n",
       "      <th>YearsSinceLastPromotion</th>\n",
       "      <th>YearsWithCurrManager</th>\n",
       "    </tr>\n",
       "  </thead>\n",
       "  <tbody>\n",
       "    <tr>\n",
       "      <th>0</th>\n",
       "      <td>41</td>\n",
       "      <td>Yes</td>\n",
       "      <td>Travel_Rarely</td>\n",
       "      <td>Sales</td>\n",
       "      <td>1</td>\n",
       "      <td>2</td>\n",
       "      <td>Life Sciences</td>\n",
       "      <td>2</td>\n",
       "      <td>94</td>\n",
       "      <td>3</td>\n",
       "      <td>...</td>\n",
       "      <td>3</td>\n",
       "      <td>1</td>\n",
       "      <td>0</td>\n",
       "      <td>8</td>\n",
       "      <td>0</td>\n",
       "      <td>1</td>\n",
       "      <td>6</td>\n",
       "      <td>4</td>\n",
       "      <td>0</td>\n",
       "      <td>5</td>\n",
       "    </tr>\n",
       "    <tr>\n",
       "      <th>1</th>\n",
       "      <td>49</td>\n",
       "      <td>No</td>\n",
       "      <td>Travel_Frequently</td>\n",
       "      <td>Research &amp; Development</td>\n",
       "      <td>8</td>\n",
       "      <td>1</td>\n",
       "      <td>Life Sciences</td>\n",
       "      <td>3</td>\n",
       "      <td>61</td>\n",
       "      <td>2</td>\n",
       "      <td>...</td>\n",
       "      <td>4</td>\n",
       "      <td>4</td>\n",
       "      <td>1</td>\n",
       "      <td>10</td>\n",
       "      <td>3</td>\n",
       "      <td>3</td>\n",
       "      <td>10</td>\n",
       "      <td>7</td>\n",
       "      <td>1</td>\n",
       "      <td>7</td>\n",
       "    </tr>\n",
       "    <tr>\n",
       "      <th>2</th>\n",
       "      <td>37</td>\n",
       "      <td>Yes</td>\n",
       "      <td>Travel_Rarely</td>\n",
       "      <td>Research &amp; Development</td>\n",
       "      <td>2</td>\n",
       "      <td>2</td>\n",
       "      <td>Other</td>\n",
       "      <td>4</td>\n",
       "      <td>92</td>\n",
       "      <td>2</td>\n",
       "      <td>...</td>\n",
       "      <td>3</td>\n",
       "      <td>2</td>\n",
       "      <td>0</td>\n",
       "      <td>7</td>\n",
       "      <td>3</td>\n",
       "      <td>3</td>\n",
       "      <td>0</td>\n",
       "      <td>0</td>\n",
       "      <td>0</td>\n",
       "      <td>0</td>\n",
       "    </tr>\n",
       "    <tr>\n",
       "      <th>3</th>\n",
       "      <td>33</td>\n",
       "      <td>No</td>\n",
       "      <td>Travel_Frequently</td>\n",
       "      <td>Research &amp; Development</td>\n",
       "      <td>3</td>\n",
       "      <td>4</td>\n",
       "      <td>Life Sciences</td>\n",
       "      <td>4</td>\n",
       "      <td>56</td>\n",
       "      <td>3</td>\n",
       "      <td>...</td>\n",
       "      <td>3</td>\n",
       "      <td>3</td>\n",
       "      <td>0</td>\n",
       "      <td>8</td>\n",
       "      <td>3</td>\n",
       "      <td>3</td>\n",
       "      <td>8</td>\n",
       "      <td>7</td>\n",
       "      <td>3</td>\n",
       "      <td>0</td>\n",
       "    </tr>\n",
       "    <tr>\n",
       "      <th>4</th>\n",
       "      <td>27</td>\n",
       "      <td>No</td>\n",
       "      <td>Travel_Rarely</td>\n",
       "      <td>Research &amp; Development</td>\n",
       "      <td>2</td>\n",
       "      <td>1</td>\n",
       "      <td>Medical</td>\n",
       "      <td>1</td>\n",
       "      <td>40</td>\n",
       "      <td>3</td>\n",
       "      <td>...</td>\n",
       "      <td>3</td>\n",
       "      <td>4</td>\n",
       "      <td>1</td>\n",
       "      <td>6</td>\n",
       "      <td>3</td>\n",
       "      <td>3</td>\n",
       "      <td>2</td>\n",
       "      <td>2</td>\n",
       "      <td>2</td>\n",
       "      <td>2</td>\n",
       "    </tr>\n",
       "  </tbody>\n",
       "</table>\n",
       "<p>5 rows × 27 columns</p>\n",
       "</div>"
      ],
      "text/plain": [
       "   Age Attrition     BusinessTravel              Department  DistanceFromHome  \\\n",
       "0   41       Yes      Travel_Rarely                   Sales                 1   \n",
       "1   49        No  Travel_Frequently  Research & Development                 8   \n",
       "2   37       Yes      Travel_Rarely  Research & Development                 2   \n",
       "3   33        No  Travel_Frequently  Research & Development                 3   \n",
       "4   27        No      Travel_Rarely  Research & Development                 2   \n",
       "\n",
       "   Education EducationField  EnvironmentSatisfaction  HourlyRate  \\\n",
       "0          2  Life Sciences                        2          94   \n",
       "1          1  Life Sciences                        3          61   \n",
       "2          2          Other                        4          92   \n",
       "3          4  Life Sciences                        4          56   \n",
       "4          1        Medical                        1          40   \n",
       "\n",
       "   JobInvolvement  ...  PerformanceRating RelationshipSatisfaction  \\\n",
       "0               3  ...                  3                        1   \n",
       "1               2  ...                  4                        4   \n",
       "2               2  ...                  3                        2   \n",
       "3               3  ...                  3                        3   \n",
       "4               3  ...                  3                        4   \n",
       "\n",
       "   StockOptionLevel TotalWorkingYears  TrainingTimesLastYear WorkLifeBalance  \\\n",
       "0                 0                 8                      0               1   \n",
       "1                 1                10                      3               3   \n",
       "2                 0                 7                      3               3   \n",
       "3                 0                 8                      3               3   \n",
       "4                 1                 6                      3               3   \n",
       "\n",
       "   YearsAtCompany  YearsInCurrentRole  YearsSinceLastPromotion  \\\n",
       "0               6                   4                        0   \n",
       "1              10                   7                        1   \n",
       "2               0                   0                        0   \n",
       "3               8                   7                        3   \n",
       "4               2                   2                        2   \n",
       "\n",
       "   YearsWithCurrManager  \n",
       "0                     5  \n",
       "1                     7  \n",
       "2                     0  \n",
       "3                     0  \n",
       "4                     2  \n",
       "\n",
       "[5 rows x 27 columns]"
      ]
     },
     "execution_count": 1,
     "metadata": {},
     "output_type": "execute_result"
    }
   ],
   "source": [
    "# Import our dependencies\n",
    "from sklearn.model_selection import train_test_split\n",
    "from sklearn.preprocessing import StandardScaler\n",
    "import pandas as pd\n",
    "import numpy as np\n",
    "from tensorflow.keras.models import Model\n",
    "from tensorflow.keras import layers\n",
    "\n",
    "#  Import and read the attrition data\n",
    "attrition_df = pd.read_csv('https://static.bc-edx.com/ai/ail-v-1-0/m19/lms/datasets/attrition.csv')\n",
    "attrition_df.head()"
   ]
  },
  {
   "cell_type": "code",
   "execution_count": 2,
   "metadata": {
    "colab": {
     "base_uri": "https://localhost:8080/",
     "height": 930
    },
    "executionInfo": {
     "elapsed": 10,
     "status": "ok",
     "timestamp": 1730699226906,
     "user": {
      "displayName": "Alexander Booth",
      "userId": "02269714993535573104"
     },
     "user_tz": 360
    },
    "id": "g22aQSY4Gc3Q",
    "outputId": "e8b68509-45d8-42e0-a9db-1bdce48e4b2d"
   },
   "outputs": [
    {
     "data": {
      "text/plain": [
       "Age                         43\n",
       "Attrition                    2\n",
       "BusinessTravel               3\n",
       "Department                   3\n",
       "DistanceFromHome            29\n",
       "Education                    5\n",
       "EducationField               6\n",
       "EnvironmentSatisfaction      4\n",
       "HourlyRate                  71\n",
       "JobInvolvement               4\n",
       "JobLevel                     5\n",
       "JobRole                      9\n",
       "JobSatisfaction              4\n",
       "MaritalStatus                3\n",
       "NumCompaniesWorked          10\n",
       "OverTime                     2\n",
       "PercentSalaryHike           15\n",
       "PerformanceRating            2\n",
       "RelationshipSatisfaction     4\n",
       "StockOptionLevel             4\n",
       "TotalWorkingYears           40\n",
       "TrainingTimesLastYear        7\n",
       "WorkLifeBalance              4\n",
       "YearsAtCompany              37\n",
       "YearsInCurrentRole          19\n",
       "YearsSinceLastPromotion     16\n",
       "YearsWithCurrManager        18\n",
       "dtype: int64"
      ]
     },
     "execution_count": 2,
     "metadata": {},
     "output_type": "execute_result"
    }
   ],
   "source": [
    "# Determine the number of unique values in each column\n",
    "attrition_df.nunique()"
   ]
  },
  {
   "cell_type": "code",
   "execution_count": 3,
   "metadata": {},
   "outputs": [
    {
     "name": "stdout",
     "output_type": "stream",
     "text": [
      "<class 'pandas.core.frame.DataFrame'>\n",
      "RangeIndex: 1470 entries, 0 to 1469\n",
      "Data columns (total 27 columns):\n",
      " #   Column                    Non-Null Count  Dtype \n",
      "---  ------                    --------------  ----- \n",
      " 0   Age                       1470 non-null   int64 \n",
      " 1   Attrition                 1470 non-null   object\n",
      " 2   BusinessTravel            1470 non-null   object\n",
      " 3   Department                1470 non-null   object\n",
      " 4   DistanceFromHome          1470 non-null   int64 \n",
      " 5   Education                 1470 non-null   int64 \n",
      " 6   EducationField            1470 non-null   object\n",
      " 7   EnvironmentSatisfaction   1470 non-null   int64 \n",
      " 8   HourlyRate                1470 non-null   int64 \n",
      " 9   JobInvolvement            1470 non-null   int64 \n",
      " 10  JobLevel                  1470 non-null   int64 \n",
      " 11  JobRole                   1470 non-null   object\n",
      " 12  JobSatisfaction           1470 non-null   int64 \n",
      " 13  MaritalStatus             1470 non-null   object\n",
      " 14  NumCompaniesWorked        1470 non-null   int64 \n",
      " 15  OverTime                  1470 non-null   object\n",
      " 16  PercentSalaryHike         1470 non-null   int64 \n",
      " 17  PerformanceRating         1470 non-null   int64 \n",
      " 18  RelationshipSatisfaction  1470 non-null   int64 \n",
      " 19  StockOptionLevel          1470 non-null   int64 \n",
      " 20  TotalWorkingYears         1470 non-null   int64 \n",
      " 21  TrainingTimesLastYear     1470 non-null   int64 \n",
      " 22  WorkLifeBalance           1470 non-null   int64 \n",
      " 23  YearsAtCompany            1470 non-null   int64 \n",
      " 24  YearsInCurrentRole        1470 non-null   int64 \n",
      " 25  YearsSinceLastPromotion   1470 non-null   int64 \n",
      " 26  YearsWithCurrManager      1470 non-null   int64 \n",
      "dtypes: int64(20), object(7)\n",
      "memory usage: 310.2+ KB\n"
     ]
    }
   ],
   "source": [
    "attrition_df.info()"
   ]
  },
  {
   "cell_type": "code",
   "execution_count": 4,
   "metadata": {
    "executionInfo": {
     "elapsed": 7,
     "status": "ok",
     "timestamp": 1730699226906,
     "user": {
      "displayName": "Alexander Booth",
      "userId": "02269714993535573104"
     },
     "user_tz": 360
    },
    "id": "50vMgBEnJbfM"
   },
   "outputs": [
    {
     "name": "stdout",
     "output_type": "stream",
     "text": [
      "<class 'pandas.core.frame.DataFrame'>\n",
      "RangeIndex: 1470 entries, 0 to 1469\n",
      "Data columns (total 2 columns):\n",
      " #   Column      Non-Null Count  Dtype \n",
      "---  ------      --------------  ----- \n",
      " 0   Attrition   1470 non-null   object\n",
      " 1   Department  1470 non-null   object\n",
      "dtypes: object(2)\n",
      "memory usage: 23.1+ KB\n"
     ]
    }
   ],
   "source": [
    "# Create y_df with the Attrition and Department columns\n",
    "y_df = attrition_df[['Attrition', 'Department']].copy()\n",
    "y_df.info()"
   ]
  },
  {
   "cell_type": "code",
   "execution_count": 42,
   "metadata": {},
   "outputs": [
    {
     "data": {
      "text/plain": [
       "Attrition\n",
       "No     1233\n",
       "Yes     237\n",
       "Name: count, dtype: int64"
      ]
     },
     "metadata": {},
     "output_type": "display_data"
    },
    {
     "data": {
      "text/plain": [
       "Department\n",
       "Research & Development    961\n",
       "Sales                     446\n",
       "Human Resources            63\n",
       "Name: count, dtype: int64"
      ]
     },
     "metadata": {},
     "output_type": "display_data"
    }
   ],
   "source": [
    "#print unique value counts in the Attrition column and Department column\n",
    "display(y_df['Attrition'].value_counts())\n",
    "display(y_df['Department'].value_counts())"
   ]
  },
  {
   "cell_type": "code",
   "execution_count": 5,
   "metadata": {
    "colab": {
     "base_uri": "https://localhost:8080/",
     "height": 397
    },
    "executionInfo": {
     "elapsed": 125,
     "status": "ok",
     "timestamp": 1730699227025,
     "user": {
      "displayName": "Alexander Booth",
      "userId": "02269714993535573104"
     },
     "user_tz": 360
    },
    "id": "Virka0zLGc3R",
    "outputId": "24f181c9-7e2e-42cb-94e8-a75842f1ab01"
   },
   "outputs": [
    {
     "data": {
      "text/plain": [
       "Age                         int64\n",
       "DistanceFromHome            int64\n",
       "EnvironmentSatisfaction     int64\n",
       "HourlyRate                  int64\n",
       "JobInvolvement              int64\n",
       "JobSatisfaction             int64\n",
       "MaritalStatus              object\n",
       "NumCompaniesWorked          int64\n",
       "OverTime                   object\n",
       "PercentSalaryHike           int64\n",
       "WorkLifeBalance             int64\n",
       "YearsSinceLastPromotion     int64\n",
       "dtype: object"
      ]
     },
     "execution_count": 5,
     "metadata": {},
     "output_type": "execute_result"
    }
   ],
   "source": [
    "# Create a list of at least 10 column names to use as X data\n",
    "x_columns = ['Age', 'DistanceFromHome', 'EnvironmentSatisfaction', 'HourlyRate', 'JobInvolvement', 'JobSatisfaction', 'MaritalStatus', 'NumCompaniesWorked', 'OverTime', 'PercentSalaryHike', 'WorkLifeBalance', 'YearsSinceLastPromotion']\n",
    "\n",
    "# Create X_df using your selected columns\n",
    "X_df = attrition_df[x_columns].copy()\n",
    "\n",
    "# Show the data types for X_df\n",
    "X_df.dtypes\n"
   ]
  },
  {
   "cell_type": "code",
   "execution_count": 6,
   "metadata": {
    "executionInfo": {
     "elapsed": 9,
     "status": "ok",
     "timestamp": 1730699227025,
     "user": {
      "displayName": "Alexander Booth",
      "userId": "02269714993535573104"
     },
     "user_tz": 360
    },
    "id": "KaJfdOGUMHMR"
   },
   "outputs": [],
   "source": [
    "# Split the data into training and testing sets\n",
    "from sklearn.model_selection import train_test_split\n",
    "from sklearn.preprocessing import OneHotEncoder, LabelEncoder\n",
    "\n",
    "X_train, X_test, y_train, y_test = train_test_split(X_df, y_df, test_size=0.2, random_state=42)"
   ]
  },
  {
   "cell_type": "code",
   "execution_count": 7,
   "metadata": {},
   "outputs": [
    {
     "name": "stdout",
     "output_type": "stream",
     "text": [
      "(1176, 12)\n",
      "(294, 12)\n",
      "(1176, 2)\n",
      "(294, 2)\n"
     ]
    }
   ],
   "source": [
    "print(X_train.shape)\n",
    "print(X_test.shape)\n",
    "print(y_train.shape)\n",
    "print(y_test.shape)"
   ]
  },
  {
   "cell_type": "code",
   "execution_count": 8,
   "metadata": {
    "colab": {
     "base_uri": "https://localhost:8080/",
     "height": 178
    },
    "executionInfo": {
     "elapsed": 8,
     "status": "ok",
     "timestamp": 1730699227025,
     "user": {
      "displayName": "Alexander Booth",
      "userId": "02269714993535573104"
     },
     "user_tz": 360
    },
    "id": "NYubUJqiLCSp",
    "outputId": "6116187c-4afa-4d4a-aeb9-fdc2131d0d58"
   },
   "outputs": [],
   "source": [
    "# Convert your X data to numeric data types however you see fit\n",
    "# Add new code cells as necessary\n",
    "#getdummies for OverTime\n",
    "X_train = pd.get_dummies(X_train, columns=['OverTime'], drop_first=False)\n",
    "X_test = pd.get_dummies(X_test, columns=['OverTime'], drop_first=False)\n",
    "\n",
    "#onehotencoder for MaritalStatus:\n",
    "marital_encoder = OneHotEncoder(sparse_output=False)\n",
    "X_train_marital = marital_encoder.fit_transform(X_train[['MaritalStatus']])\n",
    "X_test_marital = marital_encoder.transform(X_test[['MaritalStatus']])\n",
    "X_train = X_train.drop(['MaritalStatus'], axis=1)\n",
    "X_test = X_test.drop(['MaritalStatus'], axis=1)\n",
    "X_marital_train_df = pd.DataFrame(X_train_marital, columns=marital_encoder.get_feature_names_out(['MaritalStatus']))\n",
    "X_marital_test_df = pd.DataFrame(X_test_marital, columns=marital_encoder.get_feature_names_out(['MaritalStatus']))\n",
    "# Reset the indices of the new dataframes before concatenation to avoid misalignment\n",
    "X_marital_train_df.reset_index(drop=True, inplace=True)\n",
    "X_marital_test_df.reset_index(drop=True, inplace=True)\n",
    "X_train.reset_index(drop=True, inplace=True)\n",
    "X_test.reset_index(drop=True, inplace=True)\n",
    "\n",
    "# Concatenate the dataframes along the columns\n",
    "X_train = pd.concat([X_train, X_marital_train_df], axis=1)\n",
    "X_test = pd.concat([X_test, X_marital_test_df], axis=1)\n"
   ]
  },
  {
   "cell_type": "code",
   "execution_count": 9,
   "metadata": {},
   "outputs": [
    {
     "data": {
      "text/html": [
       "<div>\n",
       "<style scoped>\n",
       "    .dataframe tbody tr th:only-of-type {\n",
       "        vertical-align: middle;\n",
       "    }\n",
       "\n",
       "    .dataframe tbody tr th {\n",
       "        vertical-align: top;\n",
       "    }\n",
       "\n",
       "    .dataframe thead th {\n",
       "        text-align: right;\n",
       "    }\n",
       "</style>\n",
       "<table border=\"1\" class=\"dataframe\">\n",
       "  <thead>\n",
       "    <tr style=\"text-align: right;\">\n",
       "      <th></th>\n",
       "      <th>Age</th>\n",
       "      <th>DistanceFromHome</th>\n",
       "      <th>EnvironmentSatisfaction</th>\n",
       "      <th>HourlyRate</th>\n",
       "      <th>JobInvolvement</th>\n",
       "      <th>JobSatisfaction</th>\n",
       "      <th>NumCompaniesWorked</th>\n",
       "      <th>PercentSalaryHike</th>\n",
       "      <th>WorkLifeBalance</th>\n",
       "      <th>YearsSinceLastPromotion</th>\n",
       "      <th>OverTime_No</th>\n",
       "      <th>OverTime_Yes</th>\n",
       "      <th>MaritalStatus_Divorced</th>\n",
       "      <th>MaritalStatus_Married</th>\n",
       "      <th>MaritalStatus_Single</th>\n",
       "    </tr>\n",
       "  </thead>\n",
       "  <tbody>\n",
       "    <tr>\n",
       "      <th>0</th>\n",
       "      <td>24</td>\n",
       "      <td>21</td>\n",
       "      <td>3</td>\n",
       "      <td>57</td>\n",
       "      <td>2</td>\n",
       "      <td>1</td>\n",
       "      <td>0</td>\n",
       "      <td>14</td>\n",
       "      <td>3</td>\n",
       "      <td>0</td>\n",
       "      <td>True</td>\n",
       "      <td>False</td>\n",
       "      <td>1.0</td>\n",
       "      <td>0.0</td>\n",
       "      <td>0.0</td>\n",
       "    </tr>\n",
       "    <tr>\n",
       "      <th>1</th>\n",
       "      <td>18</td>\n",
       "      <td>5</td>\n",
       "      <td>2</td>\n",
       "      <td>73</td>\n",
       "      <td>3</td>\n",
       "      <td>4</td>\n",
       "      <td>1</td>\n",
       "      <td>15</td>\n",
       "      <td>3</td>\n",
       "      <td>0</td>\n",
       "      <td>True</td>\n",
       "      <td>False</td>\n",
       "      <td>0.0</td>\n",
       "      <td>0.0</td>\n",
       "      <td>1.0</td>\n",
       "    </tr>\n",
       "    <tr>\n",
       "      <th>2</th>\n",
       "      <td>29</td>\n",
       "      <td>20</td>\n",
       "      <td>4</td>\n",
       "      <td>45</td>\n",
       "      <td>3</td>\n",
       "      <td>4</td>\n",
       "      <td>2</td>\n",
       "      <td>14</td>\n",
       "      <td>3</td>\n",
       "      <td>0</td>\n",
       "      <td>True</td>\n",
       "      <td>False</td>\n",
       "      <td>1.0</td>\n",
       "      <td>0.0</td>\n",
       "      <td>0.0</td>\n",
       "    </tr>\n",
       "    <tr>\n",
       "      <th>3</th>\n",
       "      <td>39</td>\n",
       "      <td>12</td>\n",
       "      <td>4</td>\n",
       "      <td>66</td>\n",
       "      <td>3</td>\n",
       "      <td>2</td>\n",
       "      <td>4</td>\n",
       "      <td>21</td>\n",
       "      <td>3</td>\n",
       "      <td>1</td>\n",
       "      <td>True</td>\n",
       "      <td>False</td>\n",
       "      <td>0.0</td>\n",
       "      <td>1.0</td>\n",
       "      <td>0.0</td>\n",
       "    </tr>\n",
       "    <tr>\n",
       "      <th>4</th>\n",
       "      <td>31</td>\n",
       "      <td>20</td>\n",
       "      <td>2</td>\n",
       "      <td>89</td>\n",
       "      <td>3</td>\n",
       "      <td>3</td>\n",
       "      <td>1</td>\n",
       "      <td>11</td>\n",
       "      <td>3</td>\n",
       "      <td>0</td>\n",
       "      <td>True</td>\n",
       "      <td>False</td>\n",
       "      <td>1.0</td>\n",
       "      <td>0.0</td>\n",
       "      <td>0.0</td>\n",
       "    </tr>\n",
       "    <tr>\n",
       "      <th>...</th>\n",
       "      <td>...</td>\n",
       "      <td>...</td>\n",
       "      <td>...</td>\n",
       "      <td>...</td>\n",
       "      <td>...</td>\n",
       "      <td>...</td>\n",
       "      <td>...</td>\n",
       "      <td>...</td>\n",
       "      <td>...</td>\n",
       "      <td>...</td>\n",
       "      <td>...</td>\n",
       "      <td>...</td>\n",
       "      <td>...</td>\n",
       "      <td>...</td>\n",
       "      <td>...</td>\n",
       "    </tr>\n",
       "    <tr>\n",
       "      <th>1171</th>\n",
       "      <td>35</td>\n",
       "      <td>28</td>\n",
       "      <td>2</td>\n",
       "      <td>46</td>\n",
       "      <td>4</td>\n",
       "      <td>3</td>\n",
       "      <td>1</td>\n",
       "      <td>17</td>\n",
       "      <td>2</td>\n",
       "      <td>6</td>\n",
       "      <td>True</td>\n",
       "      <td>False</td>\n",
       "      <td>0.0</td>\n",
       "      <td>1.0</td>\n",
       "      <td>0.0</td>\n",
       "    </tr>\n",
       "    <tr>\n",
       "      <th>1172</th>\n",
       "      <td>41</td>\n",
       "      <td>5</td>\n",
       "      <td>2</td>\n",
       "      <td>85</td>\n",
       "      <td>4</td>\n",
       "      <td>2</td>\n",
       "      <td>3</td>\n",
       "      <td>12</td>\n",
       "      <td>1</td>\n",
       "      <td>1</td>\n",
       "      <td>True</td>\n",
       "      <td>False</td>\n",
       "      <td>0.0</td>\n",
       "      <td>0.0</td>\n",
       "      <td>1.0</td>\n",
       "    </tr>\n",
       "    <tr>\n",
       "      <th>1173</th>\n",
       "      <td>22</td>\n",
       "      <td>3</td>\n",
       "      <td>3</td>\n",
       "      <td>48</td>\n",
       "      <td>2</td>\n",
       "      <td>4</td>\n",
       "      <td>0</td>\n",
       "      <td>11</td>\n",
       "      <td>3</td>\n",
       "      <td>0</td>\n",
       "      <td>False</td>\n",
       "      <td>True</td>\n",
       "      <td>0.0</td>\n",
       "      <td>1.0</td>\n",
       "      <td>0.0</td>\n",
       "    </tr>\n",
       "    <tr>\n",
       "      <th>1174</th>\n",
       "      <td>29</td>\n",
       "      <td>13</td>\n",
       "      <td>4</td>\n",
       "      <td>46</td>\n",
       "      <td>2</td>\n",
       "      <td>2</td>\n",
       "      <td>4</td>\n",
       "      <td>13</td>\n",
       "      <td>3</td>\n",
       "      <td>0</td>\n",
       "      <td>False</td>\n",
       "      <td>True</td>\n",
       "      <td>0.0</td>\n",
       "      <td>1.0</td>\n",
       "      <td>0.0</td>\n",
       "    </tr>\n",
       "    <tr>\n",
       "      <th>1175</th>\n",
       "      <td>50</td>\n",
       "      <td>9</td>\n",
       "      <td>3</td>\n",
       "      <td>59</td>\n",
       "      <td>3</td>\n",
       "      <td>3</td>\n",
       "      <td>4</td>\n",
       "      <td>16</td>\n",
       "      <td>3</td>\n",
       "      <td>0</td>\n",
       "      <td>False</td>\n",
       "      <td>True</td>\n",
       "      <td>0.0</td>\n",
       "      <td>1.0</td>\n",
       "      <td>0.0</td>\n",
       "    </tr>\n",
       "  </tbody>\n",
       "</table>\n",
       "<p>1176 rows × 15 columns</p>\n",
       "</div>"
      ],
      "text/plain": [
       "      Age  DistanceFromHome  EnvironmentSatisfaction  HourlyRate  \\\n",
       "0      24                21                        3          57   \n",
       "1      18                 5                        2          73   \n",
       "2      29                20                        4          45   \n",
       "3      39                12                        4          66   \n",
       "4      31                20                        2          89   \n",
       "...   ...               ...                      ...         ...   \n",
       "1171   35                28                        2          46   \n",
       "1172   41                 5                        2          85   \n",
       "1173   22                 3                        3          48   \n",
       "1174   29                13                        4          46   \n",
       "1175   50                 9                        3          59   \n",
       "\n",
       "      JobInvolvement  JobSatisfaction  NumCompaniesWorked  PercentSalaryHike  \\\n",
       "0                  2                1                   0                 14   \n",
       "1                  3                4                   1                 15   \n",
       "2                  3                4                   2                 14   \n",
       "3                  3                2                   4                 21   \n",
       "4                  3                3                   1                 11   \n",
       "...              ...              ...                 ...                ...   \n",
       "1171               4                3                   1                 17   \n",
       "1172               4                2                   3                 12   \n",
       "1173               2                4                   0                 11   \n",
       "1174               2                2                   4                 13   \n",
       "1175               3                3                   4                 16   \n",
       "\n",
       "      WorkLifeBalance  YearsSinceLastPromotion  OverTime_No  OverTime_Yes  \\\n",
       "0                   3                        0         True         False   \n",
       "1                   3                        0         True         False   \n",
       "2                   3                        0         True         False   \n",
       "3                   3                        1         True         False   \n",
       "4                   3                        0         True         False   \n",
       "...               ...                      ...          ...           ...   \n",
       "1171                2                        6         True         False   \n",
       "1172                1                        1         True         False   \n",
       "1173                3                        0        False          True   \n",
       "1174                3                        0        False          True   \n",
       "1175                3                        0        False          True   \n",
       "\n",
       "      MaritalStatus_Divorced  MaritalStatus_Married  MaritalStatus_Single  \n",
       "0                        1.0                    0.0                   0.0  \n",
       "1                        0.0                    0.0                   1.0  \n",
       "2                        1.0                    0.0                   0.0  \n",
       "3                        0.0                    1.0                   0.0  \n",
       "4                        1.0                    0.0                   0.0  \n",
       "...                      ...                    ...                   ...  \n",
       "1171                     0.0                    1.0                   0.0  \n",
       "1172                     0.0                    0.0                   1.0  \n",
       "1173                     0.0                    1.0                   0.0  \n",
       "1174                     0.0                    1.0                   0.0  \n",
       "1175                     0.0                    1.0                   0.0  \n",
       "\n",
       "[1176 rows x 15 columns]"
      ]
     },
     "execution_count": 9,
     "metadata": {},
     "output_type": "execute_result"
    }
   ],
   "source": [
    "X_train"
   ]
  },
  {
   "cell_type": "code",
   "execution_count": 10,
   "metadata": {},
   "outputs": [
    {
     "name": "stdout",
     "output_type": "stream",
     "text": [
      "(1176, 15)\n",
      "(294, 15)\n",
      "(1176, 2)\n",
      "(294, 2)\n"
     ]
    }
   ],
   "source": [
    "print(X_train.shape)\n",
    "print(X_test.shape)\n",
    "print(y_train.shape)\n",
    "print(y_test.shape)"
   ]
  },
  {
   "cell_type": "code",
   "execution_count": 11,
   "metadata": {
    "executionInfo": {
     "elapsed": 6,
     "status": "ok",
     "timestamp": 1730699227162,
     "user": {
      "displayName": "Alexander Booth",
      "userId": "02269714993535573104"
     },
     "user_tz": 360
    },
    "id": "EWA-aIA5Gc3T"
   },
   "outputs": [],
   "source": [
    "# Create a StandardScaler\n",
    "scaler = StandardScaler()\n",
    "\n",
    "# Fit the StandardScaler to the training data\n",
    "scaler.fit(X_train)\n",
    "\n",
    "\n",
    "# Scale the training and testing data\n",
    "X_train_scaled = scaler.transform(X_train)\n",
    "X_test_scaled = scaler.transform(X_test)\n"
   ]
  },
  {
   "cell_type": "code",
   "execution_count": 12,
   "metadata": {
    "colab": {
     "base_uri": "https://localhost:8080/"
    },
    "executionInfo": {
     "elapsed": 99,
     "status": "ok",
     "timestamp": 1730699227256,
     "user": {
      "displayName": "Alexander Booth",
      "userId": "02269714993535573104"
     },
     "user_tz": 360
    },
    "id": "-z0Mky8vQSz4",
    "outputId": "5024d63f-7e4e-4a91-fb76-0b2c79c1bcfb"
   },
   "outputs": [
    {
     "data": {
      "text/plain": [
       "array([[0., 1., 0.],\n",
       "       [0., 1., 0.],\n",
       "       [0., 0., 1.],\n",
       "       ...,\n",
       "       [0., 1., 0.],\n",
       "       [0., 1., 0.],\n",
       "       [0., 0., 1.]])"
      ]
     },
     "execution_count": 12,
     "metadata": {},
     "output_type": "execute_result"
    }
   ],
   "source": [
    "from sklearn.preprocessing import OneHotEncoder\n",
    "\n",
    "# Create a OneHotEncoder for the Department column\n",
    "department_encoder = OneHotEncoder(sparse_output=False)\n",
    "\n",
    "\n",
    "# Fit the encoder to the training data\n",
    "department_encoder.fit(y_train[['Department']])\n",
    "\n",
    "\n",
    "# Create two new variables by applying the encoder\n",
    "# to the training and testing data\n",
    "y_train_department_encoded = department_encoder.transform(y_train[['Department']])\n",
    "y_test_department_encoded = department_encoder.transform(y_test[['Department']])\n",
    "\n",
    "y_train_department_encoded"
   ]
  },
  {
   "cell_type": "code",
   "execution_count": 13,
   "metadata": {
    "colab": {
     "base_uri": "https://localhost:8080/"
    },
    "executionInfo": {
     "elapsed": 5,
     "status": "ok",
     "timestamp": 1730699227257,
     "user": {
      "displayName": "Alexander Booth",
      "userId": "02269714993535573104"
     },
     "user_tz": 360
    },
    "id": "-G4DSpvFRrk4",
    "outputId": "1821049e-a4f0-437f-b8a7-e415431fbdb0"
   },
   "outputs": [
    {
     "data": {
      "text/plain": [
       "array([[1., 0.],\n",
       "       [1., 0.],\n",
       "       [1., 0.],\n",
       "       ...,\n",
       "       [0., 1.],\n",
       "       [1., 0.],\n",
       "       [1., 0.]])"
      ]
     },
     "execution_count": 13,
     "metadata": {},
     "output_type": "execute_result"
    }
   ],
   "source": [
    "# Create a OneHotEncoder for the Attrition column\n",
    "attrition_encoder = OneHotEncoder(sparse_output=False)\n",
    "\n",
    "# Fit the encoder to the training data\n",
    "attrition_encoder.fit(y_train[['Attrition']])\n",
    "\n",
    "# Create two new variables by applying the encoder\n",
    "# to the training and testing data\n",
    "y_train_attrition_encoded = attrition_encoder.transform(y_train[['Attrition']])\n",
    "y_test_attrition_encoded = attrition_encoder.transform(y_test[['Attrition']])\n",
    "\n",
    "y_train_attrition_encoded"
   ]
  },
  {
   "cell_type": "code",
   "execution_count": 14,
   "metadata": {},
   "outputs": [
    {
     "data": {
      "text/plain": [
       "((1176, 2), (1176, 3))"
      ]
     },
     "execution_count": 14,
     "metadata": {},
     "output_type": "execute_result"
    }
   ],
   "source": [
    "y_train_attrition_encoded.shape, y_train_department_encoded.shape"
   ]
  },
  {
   "cell_type": "code",
   "execution_count": 15,
   "metadata": {},
   "outputs": [
    {
     "data": {
      "text/plain": [
       "(1176, 15)"
      ]
     },
     "execution_count": 15,
     "metadata": {},
     "output_type": "execute_result"
    }
   ],
   "source": [
    "X_train_scaled.shape"
   ]
  },
  {
   "cell_type": "code",
   "execution_count": null,
   "metadata": {},
   "outputs": [],
   "source": [
    "\n"
   ]
  },
  {
   "cell_type": "markdown",
   "metadata": {
    "id": "ykNmu_WWGc3T"
   },
   "source": [
    "## Part 2: Create, Compile, and Train the Model"
   ]
  },
  {
   "cell_type": "code",
   "execution_count": 16,
   "metadata": {
    "executionInfo": {
     "elapsed": 309,
     "status": "ok",
     "timestamp": 1730699227563,
     "user": {
      "displayName": "Alexander Booth",
      "userId": "02269714993535573104"
     },
     "user_tz": 360
    },
    "id": "WUptZqmSGc3T"
   },
   "outputs": [],
   "source": [
    "# Find the number of columns in the X training data.\n",
    "X_len = X_train_scaled.shape[1]\n",
    "\n",
    "# Create the input layer\n",
    "input_layer = layers.Input(shape=(X_len,),name='input_layer')\n",
    "\n",
    "# Create at least two shared layers\n",
    "shared_layer1 = layers.Dense(64, activation='relu')(input_layer)\n",
    "shared_layer2 = layers.Dense(32, activation='relu')(shared_layer1)\n"
   ]
  },
  {
   "cell_type": "code",
   "execution_count": 17,
   "metadata": {},
   "outputs": [
    {
     "data": {
      "text/plain": [
       "(1176, 15)"
      ]
     },
     "execution_count": 17,
     "metadata": {},
     "output_type": "execute_result"
    }
   ],
   "source": [
    "X_train_scaled.shape"
   ]
  },
  {
   "cell_type": "code",
   "execution_count": 18,
   "metadata": {
    "executionInfo": {
     "elapsed": 118,
     "status": "ok",
     "timestamp": 1730699227678,
     "user": {
      "displayName": "Alexander Booth",
      "userId": "02269714993535573104"
     },
     "user_tz": 360
    },
    "id": "JukjTm2yTEqd"
   },
   "outputs": [],
   "source": [
    "# Create a branch for Department\n",
    "# with a hidden layer and an output layer\n",
    "\n",
    "# Create the hidden layer\n",
    "department_hidden = layers.Dense(16, activation='relu',)(shared_layer2)\n",
    "\n",
    "# Create the output layer\n",
    "department_output = layers.Dense(y_train_department_encoded.shape[1], activation='softmax', name='department_output')(department_hidden)"
   ]
  },
  {
   "cell_type": "code",
   "execution_count": 19,
   "metadata": {
    "executionInfo": {
     "elapsed": 9,
     "status": "ok",
     "timestamp": 1730699227679,
     "user": {
      "displayName": "Alexander Booth",
      "userId": "02269714993535573104"
     },
     "user_tz": 360
    },
    "id": "9OqhUiOJUBkR"
   },
   "outputs": [],
   "source": [
    "# Create a branch for Attrition\n",
    "# with a hidden layer and an output layer\n",
    "\n",
    "# Create the hidden layer\n",
    "attrition_output = layers.Dense(16, activation='relu',)(shared_layer2)\n",
    "\n",
    "\n",
    "# Create the output layer\n",
    "attrition_output = layers.Dense(y_train_attrition_encoded.shape[1], activation='softmax', name='attrition_output')(attrition_output)\n"
   ]
  },
  {
   "cell_type": "code",
   "execution_count": 20,
   "metadata": {
    "colab": {
     "base_uri": "https://localhost:8080/",
     "height": 361
    },
    "executionInfo": {
     "elapsed": 108,
     "status": "ok",
     "timestamp": 1730699227780,
     "user": {
      "displayName": "Alexander Booth",
      "userId": "02269714993535573104"
     },
     "user_tz": 360
    },
    "id": "twmuejdxGc3T",
    "outputId": "dd9ce242-6a66-4709-ba13-4b13551c22e0"
   },
   "outputs": [
    {
     "data": {
      "text/html": [
       "<pre style=\"white-space:pre;overflow-x:auto;line-height:normal;font-family:Menlo,'DejaVu Sans Mono',consolas,'Courier New',monospace\"><span style=\"font-weight: bold\">Model: \"functional\"</span>\n",
       "</pre>\n"
      ],
      "text/plain": [
       "\u001b[1mModel: \"functional\"\u001b[0m\n"
      ]
     },
     "metadata": {},
     "output_type": "display_data"
    },
    {
     "data": {
      "text/html": [
       "<pre style=\"white-space:pre;overflow-x:auto;line-height:normal;font-family:Menlo,'DejaVu Sans Mono',consolas,'Courier New',monospace\">┏━━━━━━━━━━━━━━━━━━━━━┳━━━━━━━━━━━━━━━━━━━┳━━━━━━━━━━━━┳━━━━━━━━━━━━━━━━━━━┓\n",
       "┃<span style=\"font-weight: bold\"> Layer (type)        </span>┃<span style=\"font-weight: bold\"> Output Shape      </span>┃<span style=\"font-weight: bold\">    Param # </span>┃<span style=\"font-weight: bold\"> Connected to      </span>┃\n",
       "┡━━━━━━━━━━━━━━━━━━━━━╇━━━━━━━━━━━━━━━━━━━╇━━━━━━━━━━━━╇━━━━━━━━━━━━━━━━━━━┩\n",
       "│ input_layer         │ (<span style=\"color: #00d7ff; text-decoration-color: #00d7ff\">None</span>, <span style=\"color: #00af00; text-decoration-color: #00af00\">15</span>)        │          <span style=\"color: #00af00; text-decoration-color: #00af00\">0</span> │ -                 │\n",
       "│ (<span style=\"color: #0087ff; text-decoration-color: #0087ff\">InputLayer</span>)        │                   │            │                   │\n",
       "├─────────────────────┼───────────────────┼────────────┼───────────────────┤\n",
       "│ dense (<span style=\"color: #0087ff; text-decoration-color: #0087ff\">Dense</span>)       │ (<span style=\"color: #00d7ff; text-decoration-color: #00d7ff\">None</span>, <span style=\"color: #00af00; text-decoration-color: #00af00\">64</span>)        │      <span style=\"color: #00af00; text-decoration-color: #00af00\">1,024</span> │ input_layer[<span style=\"color: #00af00; text-decoration-color: #00af00\">0</span>][<span style=\"color: #00af00; text-decoration-color: #00af00\">0</span>] │\n",
       "├─────────────────────┼───────────────────┼────────────┼───────────────────┤\n",
       "│ dense_1 (<span style=\"color: #0087ff; text-decoration-color: #0087ff\">Dense</span>)     │ (<span style=\"color: #00d7ff; text-decoration-color: #00d7ff\">None</span>, <span style=\"color: #00af00; text-decoration-color: #00af00\">32</span>)        │      <span style=\"color: #00af00; text-decoration-color: #00af00\">2,080</span> │ dense[<span style=\"color: #00af00; text-decoration-color: #00af00\">0</span>][<span style=\"color: #00af00; text-decoration-color: #00af00\">0</span>]       │\n",
       "├─────────────────────┼───────────────────┼────────────┼───────────────────┤\n",
       "│ dense_2 (<span style=\"color: #0087ff; text-decoration-color: #0087ff\">Dense</span>)     │ (<span style=\"color: #00d7ff; text-decoration-color: #00d7ff\">None</span>, <span style=\"color: #00af00; text-decoration-color: #00af00\">16</span>)        │        <span style=\"color: #00af00; text-decoration-color: #00af00\">528</span> │ dense_1[<span style=\"color: #00af00; text-decoration-color: #00af00\">0</span>][<span style=\"color: #00af00; text-decoration-color: #00af00\">0</span>]     │\n",
       "├─────────────────────┼───────────────────┼────────────┼───────────────────┤\n",
       "│ dense_3 (<span style=\"color: #0087ff; text-decoration-color: #0087ff\">Dense</span>)     │ (<span style=\"color: #00d7ff; text-decoration-color: #00d7ff\">None</span>, <span style=\"color: #00af00; text-decoration-color: #00af00\">16</span>)        │        <span style=\"color: #00af00; text-decoration-color: #00af00\">528</span> │ dense_1[<span style=\"color: #00af00; text-decoration-color: #00af00\">0</span>][<span style=\"color: #00af00; text-decoration-color: #00af00\">0</span>]     │\n",
       "├─────────────────────┼───────────────────┼────────────┼───────────────────┤\n",
       "│ department_output   │ (<span style=\"color: #00d7ff; text-decoration-color: #00d7ff\">None</span>, <span style=\"color: #00af00; text-decoration-color: #00af00\">3</span>)         │         <span style=\"color: #00af00; text-decoration-color: #00af00\">51</span> │ dense_2[<span style=\"color: #00af00; text-decoration-color: #00af00\">0</span>][<span style=\"color: #00af00; text-decoration-color: #00af00\">0</span>]     │\n",
       "│ (<span style=\"color: #0087ff; text-decoration-color: #0087ff\">Dense</span>)             │                   │            │                   │\n",
       "├─────────────────────┼───────────────────┼────────────┼───────────────────┤\n",
       "│ attrition_output    │ (<span style=\"color: #00d7ff; text-decoration-color: #00d7ff\">None</span>, <span style=\"color: #00af00; text-decoration-color: #00af00\">2</span>)         │         <span style=\"color: #00af00; text-decoration-color: #00af00\">34</span> │ dense_3[<span style=\"color: #00af00; text-decoration-color: #00af00\">0</span>][<span style=\"color: #00af00; text-decoration-color: #00af00\">0</span>]     │\n",
       "│ (<span style=\"color: #0087ff; text-decoration-color: #0087ff\">Dense</span>)             │                   │            │                   │\n",
       "└─────────────────────┴───────────────────┴────────────┴───────────────────┘\n",
       "</pre>\n"
      ],
      "text/plain": [
       "┏━━━━━━━━━━━━━━━━━━━━━┳━━━━━━━━━━━━━━━━━━━┳━━━━━━━━━━━━┳━━━━━━━━━━━━━━━━━━━┓\n",
       "┃\u001b[1m \u001b[0m\u001b[1mLayer (type)       \u001b[0m\u001b[1m \u001b[0m┃\u001b[1m \u001b[0m\u001b[1mOutput Shape     \u001b[0m\u001b[1m \u001b[0m┃\u001b[1m \u001b[0m\u001b[1m   Param #\u001b[0m\u001b[1m \u001b[0m┃\u001b[1m \u001b[0m\u001b[1mConnected to     \u001b[0m\u001b[1m \u001b[0m┃\n",
       "┡━━━━━━━━━━━━━━━━━━━━━╇━━━━━━━━━━━━━━━━━━━╇━━━━━━━━━━━━╇━━━━━━━━━━━━━━━━━━━┩\n",
       "│ input_layer         │ (\u001b[38;5;45mNone\u001b[0m, \u001b[38;5;34m15\u001b[0m)        │          \u001b[38;5;34m0\u001b[0m │ -                 │\n",
       "│ (\u001b[38;5;33mInputLayer\u001b[0m)        │                   │            │                   │\n",
       "├─────────────────────┼───────────────────┼────────────┼───────────────────┤\n",
       "│ dense (\u001b[38;5;33mDense\u001b[0m)       │ (\u001b[38;5;45mNone\u001b[0m, \u001b[38;5;34m64\u001b[0m)        │      \u001b[38;5;34m1,024\u001b[0m │ input_layer[\u001b[38;5;34m0\u001b[0m][\u001b[38;5;34m0\u001b[0m] │\n",
       "├─────────────────────┼───────────────────┼────────────┼───────────────────┤\n",
       "│ dense_1 (\u001b[38;5;33mDense\u001b[0m)     │ (\u001b[38;5;45mNone\u001b[0m, \u001b[38;5;34m32\u001b[0m)        │      \u001b[38;5;34m2,080\u001b[0m │ dense[\u001b[38;5;34m0\u001b[0m][\u001b[38;5;34m0\u001b[0m]       │\n",
       "├─────────────────────┼───────────────────┼────────────┼───────────────────┤\n",
       "│ dense_2 (\u001b[38;5;33mDense\u001b[0m)     │ (\u001b[38;5;45mNone\u001b[0m, \u001b[38;5;34m16\u001b[0m)        │        \u001b[38;5;34m528\u001b[0m │ dense_1[\u001b[38;5;34m0\u001b[0m][\u001b[38;5;34m0\u001b[0m]     │\n",
       "├─────────────────────┼───────────────────┼────────────┼───────────────────┤\n",
       "│ dense_3 (\u001b[38;5;33mDense\u001b[0m)     │ (\u001b[38;5;45mNone\u001b[0m, \u001b[38;5;34m16\u001b[0m)        │        \u001b[38;5;34m528\u001b[0m │ dense_1[\u001b[38;5;34m0\u001b[0m][\u001b[38;5;34m0\u001b[0m]     │\n",
       "├─────────────────────┼───────────────────┼────────────┼───────────────────┤\n",
       "│ department_output   │ (\u001b[38;5;45mNone\u001b[0m, \u001b[38;5;34m3\u001b[0m)         │         \u001b[38;5;34m51\u001b[0m │ dense_2[\u001b[38;5;34m0\u001b[0m][\u001b[38;5;34m0\u001b[0m]     │\n",
       "│ (\u001b[38;5;33mDense\u001b[0m)             │                   │            │                   │\n",
       "├─────────────────────┼───────────────────┼────────────┼───────────────────┤\n",
       "│ attrition_output    │ (\u001b[38;5;45mNone\u001b[0m, \u001b[38;5;34m2\u001b[0m)         │         \u001b[38;5;34m34\u001b[0m │ dense_3[\u001b[38;5;34m0\u001b[0m][\u001b[38;5;34m0\u001b[0m]     │\n",
       "│ (\u001b[38;5;33mDense\u001b[0m)             │                   │            │                   │\n",
       "└─────────────────────┴───────────────────┴────────────┴───────────────────┘\n"
      ]
     },
     "metadata": {},
     "output_type": "display_data"
    },
    {
     "data": {
      "text/html": [
       "<pre style=\"white-space:pre;overflow-x:auto;line-height:normal;font-family:Menlo,'DejaVu Sans Mono',consolas,'Courier New',monospace\"><span style=\"font-weight: bold\"> Total params: </span><span style=\"color: #00af00; text-decoration-color: #00af00\">4,245</span> (16.58 KB)\n",
       "</pre>\n"
      ],
      "text/plain": [
       "\u001b[1m Total params: \u001b[0m\u001b[38;5;34m4,245\u001b[0m (16.58 KB)\n"
      ]
     },
     "metadata": {},
     "output_type": "display_data"
    },
    {
     "data": {
      "text/html": [
       "<pre style=\"white-space:pre;overflow-x:auto;line-height:normal;font-family:Menlo,'DejaVu Sans Mono',consolas,'Courier New',monospace\"><span style=\"font-weight: bold\"> Trainable params: </span><span style=\"color: #00af00; text-decoration-color: #00af00\">4,245</span> (16.58 KB)\n",
       "</pre>\n"
      ],
      "text/plain": [
       "\u001b[1m Trainable params: \u001b[0m\u001b[38;5;34m4,245\u001b[0m (16.58 KB)\n"
      ]
     },
     "metadata": {},
     "output_type": "display_data"
    },
    {
     "data": {
      "text/html": [
       "<pre style=\"white-space:pre;overflow-x:auto;line-height:normal;font-family:Menlo,'DejaVu Sans Mono',consolas,'Courier New',monospace\"><span style=\"font-weight: bold\"> Non-trainable params: </span><span style=\"color: #00af00; text-decoration-color: #00af00\">0</span> (0.00 B)\n",
       "</pre>\n"
      ],
      "text/plain": [
       "\u001b[1m Non-trainable params: \u001b[0m\u001b[38;5;34m0\u001b[0m (0.00 B)\n"
      ]
     },
     "metadata": {},
     "output_type": "display_data"
    }
   ],
   "source": [
    "# Create the model\n",
    "model = Model(inputs=input_layer, outputs=[department_output, attrition_output])\n",
    "\n",
    "# Compile the model\n",
    "model.compile(optimizer='adam',\n",
    "              loss={'department_output': 'categorical_crossentropy', 'attrition_output': 'binary_crossentropy'},\n",
    "              metrics={'department_output': 'accuracy', 'attrition_output': 'accuracy'})\n",
    "\n",
    "# Summarize the model\n",
    "model.summary()"
   ]
  },
  {
   "cell_type": "code",
   "execution_count": 21,
   "metadata": {
    "colab": {
     "base_uri": "https://localhost:8080/"
    },
    "executionInfo": {
     "elapsed": 31740,
     "status": "ok",
     "timestamp": 1730699259517,
     "user": {
      "displayName": "Alexander Booth",
      "userId": "02269714993535573104"
     },
     "user_tz": 360
    },
    "id": "c8oGy0dpGc3U",
    "outputId": "f48a5292-426f-4715-ea6e-381a8e9d5542"
   },
   "outputs": [
    {
     "name": "stdout",
     "output_type": "stream",
     "text": [
      "Epoch 1/100\n",
      "\u001b[1m30/30\u001b[0m \u001b[32m━━━━━━━━━━━━━━━━━━━━\u001b[0m\u001b[37m\u001b[0m \u001b[1m2s\u001b[0m 10ms/step - attrition_output_accuracy: 0.3477 - attrition_output_loss: 0.7519 - department_output_accuracy: 0.5961 - department_output_loss: 0.9713 - loss: 1.7238 - val_attrition_output_accuracy: 0.8008 - val_attrition_output_loss: 0.6162 - val_department_output_accuracy: 0.6314 - val_department_output_loss: 0.8360 - val_loss: 1.4637\n",
      "Epoch 2/100\n",
      "\u001b[1m30/30\u001b[0m \u001b[32m━━━━━━━━━━━━━━━━━━━━\u001b[0m\u001b[37m\u001b[0m \u001b[1m0s\u001b[0m 3ms/step - attrition_output_accuracy: 0.8368 - attrition_output_loss: 0.5696 - department_output_accuracy: 0.6675 - department_output_loss: 0.7901 - loss: 1.3597 - val_attrition_output_accuracy: 0.7966 - val_attrition_output_loss: 0.5008 - val_department_output_accuracy: 0.6314 - val_department_output_loss: 0.7808 - val_loss: 1.3037\n",
      "Epoch 3/100\n",
      "\u001b[1m30/30\u001b[0m \u001b[32m━━━━━━━━━━━━━━━━━━━━\u001b[0m\u001b[37m\u001b[0m \u001b[1m0s\u001b[0m 3ms/step - attrition_output_accuracy: 0.8268 - attrition_output_loss: 0.4602 - department_output_accuracy: 0.6566 - department_output_loss: 0.7504 - loss: 1.2111 - val_attrition_output_accuracy: 0.7966 - val_attrition_output_loss: 0.4627 - val_department_output_accuracy: 0.6314 - val_department_output_loss: 0.7753 - val_loss: 1.2674\n",
      "Epoch 4/100\n",
      "\u001b[1m30/30\u001b[0m \u001b[32m━━━━━━━━━━━━━━━━━━━━\u001b[0m\u001b[37m\u001b[0m \u001b[1m0s\u001b[0m 3ms/step - attrition_output_accuracy: 0.8494 - attrition_output_loss: 0.3998 - department_output_accuracy: 0.6771 - department_output_loss: 0.7400 - loss: 1.1399 - val_attrition_output_accuracy: 0.7966 - val_attrition_output_loss: 0.4412 - val_department_output_accuracy: 0.6229 - val_department_output_loss: 0.7793 - val_loss: 1.2492\n",
      "Epoch 5/100\n",
      "\u001b[1m30/30\u001b[0m \u001b[32m━━━━━━━━━━━━━━━━━━━━\u001b[0m\u001b[37m\u001b[0m \u001b[1m0s\u001b[0m 3ms/step - attrition_output_accuracy: 0.8405 - attrition_output_loss: 0.3847 - department_output_accuracy: 0.6428 - department_output_loss: 0.7848 - loss: 1.1690 - val_attrition_output_accuracy: 0.7966 - val_attrition_output_loss: 0.4268 - val_department_output_accuracy: 0.6314 - val_department_output_loss: 0.7886 - val_loss: 1.2466\n",
      "Epoch 6/100\n",
      "\u001b[1m30/30\u001b[0m \u001b[32m━━━━━━━━━━━━━━━━━━━━\u001b[0m\u001b[37m\u001b[0m \u001b[1m0s\u001b[0m 3ms/step - attrition_output_accuracy: 0.8484 - attrition_output_loss: 0.3634 - department_output_accuracy: 0.6671 - department_output_loss: 0.7265 - loss: 1.0898 - val_attrition_output_accuracy: 0.8093 - val_attrition_output_loss: 0.4141 - val_department_output_accuracy: 0.6186 - val_department_output_loss: 0.7819 - val_loss: 1.2261\n",
      "Epoch 7/100\n",
      "\u001b[1m30/30\u001b[0m \u001b[32m━━━━━━━━━━━━━━━━━━━━\u001b[0m\u001b[37m\u001b[0m \u001b[1m0s\u001b[0m 3ms/step - attrition_output_accuracy: 0.8541 - attrition_output_loss: 0.3514 - department_output_accuracy: 0.6707 - department_output_loss: 0.7237 - loss: 1.0751 - val_attrition_output_accuracy: 0.8008 - val_attrition_output_loss: 0.4075 - val_department_output_accuracy: 0.6229 - val_department_output_loss: 0.7828 - val_loss: 1.2213\n",
      "Epoch 8/100\n",
      "\u001b[1m30/30\u001b[0m \u001b[32m━━━━━━━━━━━━━━━━━━━━\u001b[0m\u001b[37m\u001b[0m \u001b[1m0s\u001b[0m 3ms/step - attrition_output_accuracy: 0.8625 - attrition_output_loss: 0.3456 - department_output_accuracy: 0.6882 - department_output_loss: 0.6924 - loss: 1.0375 - val_attrition_output_accuracy: 0.7924 - val_attrition_output_loss: 0.4043 - val_department_output_accuracy: 0.6144 - val_department_output_loss: 0.7813 - val_loss: 1.2163\n",
      "Epoch 9/100\n",
      "\u001b[1m30/30\u001b[0m \u001b[32m━━━━━━━━━━━━━━━━━━━━\u001b[0m\u001b[37m\u001b[0m \u001b[1m0s\u001b[0m 3ms/step - attrition_output_accuracy: 0.8579 - attrition_output_loss: 0.3418 - department_output_accuracy: 0.6859 - department_output_loss: 0.7006 - loss: 1.0423 - val_attrition_output_accuracy: 0.8008 - val_attrition_output_loss: 0.4050 - val_department_output_accuracy: 0.6186 - val_department_output_loss: 0.7832 - val_loss: 1.2193\n",
      "Epoch 10/100\n",
      "\u001b[1m30/30\u001b[0m \u001b[32m━━━━━━━━━━━━━━━━━━━━\u001b[0m\u001b[37m\u001b[0m \u001b[1m0s\u001b[0m 3ms/step - attrition_output_accuracy: 0.8734 - attrition_output_loss: 0.3258 - department_output_accuracy: 0.6739 - department_output_loss: 0.7114 - loss: 1.0368 - val_attrition_output_accuracy: 0.8136 - val_attrition_output_loss: 0.4005 - val_department_output_accuracy: 0.6229 - val_department_output_loss: 0.7923 - val_loss: 1.2233\n",
      "Epoch 11/100\n",
      "\u001b[1m30/30\u001b[0m \u001b[32m━━━━━━━━━━━━━━━━━━━━\u001b[0m\u001b[37m\u001b[0m \u001b[1m0s\u001b[0m 3ms/step - attrition_output_accuracy: 0.8688 - attrition_output_loss: 0.3333 - department_output_accuracy: 0.6978 - department_output_loss: 0.6803 - loss: 1.0130 - val_attrition_output_accuracy: 0.8136 - val_attrition_output_loss: 0.3997 - val_department_output_accuracy: 0.6144 - val_department_output_loss: 0.7878 - val_loss: 1.2181\n",
      "Epoch 12/100\n",
      "\u001b[1m30/30\u001b[0m \u001b[32m━━━━━━━━━━━━━━━━━━━━\u001b[0m\u001b[37m\u001b[0m \u001b[1m0s\u001b[0m 3ms/step - attrition_output_accuracy: 0.8721 - attrition_output_loss: 0.3173 - department_output_accuracy: 0.7034 - department_output_loss: 0.6686 - loss: 0.9864 - val_attrition_output_accuracy: 0.8178 - val_attrition_output_loss: 0.4017 - val_department_output_accuracy: 0.6102 - val_department_output_loss: 0.7849 - val_loss: 1.2164\n",
      "Epoch 13/100\n",
      "\u001b[1m30/30\u001b[0m \u001b[32m━━━━━━━━━━━━━━━━━━━━\u001b[0m\u001b[37m\u001b[0m \u001b[1m0s\u001b[0m 3ms/step - attrition_output_accuracy: 0.8785 - attrition_output_loss: 0.3146 - department_output_accuracy: 0.7037 - department_output_loss: 0.6664 - loss: 0.9807 - val_attrition_output_accuracy: 0.8220 - val_attrition_output_loss: 0.4020 - val_department_output_accuracy: 0.6059 - val_department_output_loss: 0.7909 - val_loss: 1.2226\n",
      "Epoch 14/100\n",
      "\u001b[1m30/30\u001b[0m \u001b[32m━━━━━━━━━━━━━━━━━━━━\u001b[0m\u001b[37m\u001b[0m \u001b[1m0s\u001b[0m 3ms/step - attrition_output_accuracy: 0.8728 - attrition_output_loss: 0.3054 - department_output_accuracy: 0.7067 - department_output_loss: 0.6793 - loss: 0.9849 - val_attrition_output_accuracy: 0.8305 - val_attrition_output_loss: 0.3993 - val_department_output_accuracy: 0.5975 - val_department_output_loss: 0.8031 - val_loss: 1.2315\n",
      "Epoch 15/100\n",
      "\u001b[1m30/30\u001b[0m \u001b[32m━━━━━━━━━━━━━━━━━━━━\u001b[0m\u001b[37m\u001b[0m \u001b[1m0s\u001b[0m 4ms/step - attrition_output_accuracy: 0.8663 - attrition_output_loss: 0.3371 - department_output_accuracy: 0.7047 - department_output_loss: 0.6064 - loss: 0.9434 - val_attrition_output_accuracy: 0.8220 - val_attrition_output_loss: 0.4033 - val_department_output_accuracy: 0.5975 - val_department_output_loss: 0.7960 - val_loss: 1.2300\n",
      "Epoch 16/100\n",
      "\u001b[1m30/30\u001b[0m \u001b[32m━━━━━━━━━━━━━━━━━━━━\u001b[0m\u001b[37m\u001b[0m \u001b[1m0s\u001b[0m 3ms/step - attrition_output_accuracy: 0.8644 - attrition_output_loss: 0.3330 - department_output_accuracy: 0.7309 - department_output_loss: 0.6491 - loss: 0.9822 - val_attrition_output_accuracy: 0.8263 - val_attrition_output_loss: 0.4029 - val_department_output_accuracy: 0.6144 - val_department_output_loss: 0.8116 - val_loss: 1.2463\n",
      "Epoch 17/100\n",
      "\u001b[1m30/30\u001b[0m \u001b[32m━━━━━━━━━━━━━━━━━━━━\u001b[0m\u001b[37m\u001b[0m \u001b[1m0s\u001b[0m 3ms/step - attrition_output_accuracy: 0.8634 - attrition_output_loss: 0.3184 - department_output_accuracy: 0.7349 - department_output_loss: 0.6309 - loss: 0.9489 - val_attrition_output_accuracy: 0.8305 - val_attrition_output_loss: 0.4025 - val_department_output_accuracy: 0.6144 - val_department_output_loss: 0.8110 - val_loss: 1.2452\n",
      "Epoch 18/100\n",
      "\u001b[1m30/30\u001b[0m \u001b[32m━━━━━━━━━━━━━━━━━━━━\u001b[0m\u001b[37m\u001b[0m \u001b[1m0s\u001b[0m 3ms/step - attrition_output_accuracy: 0.8640 - attrition_output_loss: 0.3354 - department_output_accuracy: 0.7357 - department_output_loss: 0.6010 - loss: 0.9361 - val_attrition_output_accuracy: 0.8220 - val_attrition_output_loss: 0.4078 - val_department_output_accuracy: 0.5847 - val_department_output_loss: 0.8135 - val_loss: 1.2529\n",
      "Epoch 19/100\n",
      "\u001b[1m30/30\u001b[0m \u001b[32m━━━━━━━━━━━━━━━━━━━━\u001b[0m\u001b[37m\u001b[0m \u001b[1m0s\u001b[0m 3ms/step - attrition_output_accuracy: 0.8928 - attrition_output_loss: 0.2797 - department_output_accuracy: 0.7340 - department_output_loss: 0.6551 - loss: 0.9353 - val_attrition_output_accuracy: 0.8263 - val_attrition_output_loss: 0.4102 - val_department_output_accuracy: 0.5847 - val_department_output_loss: 0.8178 - val_loss: 1.2605\n",
      "Epoch 20/100\n",
      "\u001b[1m30/30\u001b[0m \u001b[32m━━━━━━━━━━━━━━━━━━━━\u001b[0m\u001b[37m\u001b[0m \u001b[1m0s\u001b[0m 3ms/step - attrition_output_accuracy: 0.8782 - attrition_output_loss: 0.2947 - department_output_accuracy: 0.7456 - department_output_loss: 0.5915 - loss: 0.8858 - val_attrition_output_accuracy: 0.8347 - val_attrition_output_loss: 0.4087 - val_department_output_accuracy: 0.5593 - val_department_output_loss: 0.8215 - val_loss: 1.2604\n",
      "Epoch 21/100\n",
      "\u001b[1m30/30\u001b[0m \u001b[32m━━━━━━━━━━━━━━━━━━━━\u001b[0m\u001b[37m\u001b[0m \u001b[1m0s\u001b[0m 3ms/step - attrition_output_accuracy: 0.8945 - attrition_output_loss: 0.2799 - department_output_accuracy: 0.7574 - department_output_loss: 0.6105 - loss: 0.8906 - val_attrition_output_accuracy: 0.8220 - val_attrition_output_loss: 0.4132 - val_department_output_accuracy: 0.5508 - val_department_output_loss: 0.8302 - val_loss: 1.2744\n",
      "Epoch 22/100\n",
      "\u001b[1m30/30\u001b[0m \u001b[32m━━━━━━━━━━━━━━━━━━━━\u001b[0m\u001b[37m\u001b[0m \u001b[1m0s\u001b[0m 3ms/step - attrition_output_accuracy: 0.8795 - attrition_output_loss: 0.2763 - department_output_accuracy: 0.7593 - department_output_loss: 0.5984 - loss: 0.8748 - val_attrition_output_accuracy: 0.8263 - val_attrition_output_loss: 0.4185 - val_department_output_accuracy: 0.5720 - val_department_output_loss: 0.8490 - val_loss: 1.3000\n",
      "Epoch 23/100\n",
      "\u001b[1m30/30\u001b[0m \u001b[32m━━━━━━━━━━━━━━━━━━━━\u001b[0m\u001b[37m\u001b[0m \u001b[1m0s\u001b[0m 3ms/step - attrition_output_accuracy: 0.8782 - attrition_output_loss: 0.2952 - department_output_accuracy: 0.7695 - department_output_loss: 0.5726 - loss: 0.8673 - val_attrition_output_accuracy: 0.8136 - val_attrition_output_loss: 0.4310 - val_department_output_accuracy: 0.5551 - val_department_output_loss: 0.8515 - val_loss: 1.3176\n",
      "Epoch 24/100\n",
      "\u001b[1m30/30\u001b[0m \u001b[32m━━━━━━━━━━━━━━━━━━━━\u001b[0m\u001b[37m\u001b[0m \u001b[1m0s\u001b[0m 3ms/step - attrition_output_accuracy: 0.8750 - attrition_output_loss: 0.2971 - department_output_accuracy: 0.7693 - department_output_loss: 0.5612 - loss: 0.8584 - val_attrition_output_accuracy: 0.8093 - val_attrition_output_loss: 0.4353 - val_department_output_accuracy: 0.5678 - val_department_output_loss: 0.8586 - val_loss: 1.3290\n",
      "Epoch 25/100\n",
      "\u001b[1m30/30\u001b[0m \u001b[32m━━━━━━━━━━━━━━━━━━━━\u001b[0m\u001b[37m\u001b[0m \u001b[1m0s\u001b[0m 3ms/step - attrition_output_accuracy: 0.8857 - attrition_output_loss: 0.2550 - department_output_accuracy: 0.7714 - department_output_loss: 0.5676 - loss: 0.8228 - val_attrition_output_accuracy: 0.8475 - val_attrition_output_loss: 0.4249 - val_department_output_accuracy: 0.5508 - val_department_output_loss: 0.8689 - val_loss: 1.3279\n",
      "Epoch 26/100\n",
      "\u001b[1m30/30\u001b[0m \u001b[32m━━━━━━━━━━━━━━━━━━━━\u001b[0m\u001b[37m\u001b[0m \u001b[1m0s\u001b[0m 3ms/step - attrition_output_accuracy: 0.8907 - attrition_output_loss: 0.2618 - department_output_accuracy: 0.7550 - department_output_loss: 0.5607 - loss: 0.8218 - val_attrition_output_accuracy: 0.8136 - val_attrition_output_loss: 0.4309 - val_department_output_accuracy: 0.5636 - val_department_output_loss: 0.8958 - val_loss: 1.3640\n",
      "Epoch 27/100\n",
      "\u001b[1m30/30\u001b[0m \u001b[32m━━━━━━━━━━━━━━━━━━━━\u001b[0m\u001b[37m\u001b[0m \u001b[1m0s\u001b[0m 3ms/step - attrition_output_accuracy: 0.8938 - attrition_output_loss: 0.2520 - department_output_accuracy: 0.7931 - department_output_loss: 0.5310 - loss: 0.7828 - val_attrition_output_accuracy: 0.8263 - val_attrition_output_loss: 0.4250 - val_department_output_accuracy: 0.5466 - val_department_output_loss: 0.8794 - val_loss: 1.3382\n",
      "Epoch 28/100\n",
      "\u001b[1m30/30\u001b[0m \u001b[32m━━━━━━━━━━━━━━━━━━━━\u001b[0m\u001b[37m\u001b[0m \u001b[1m0s\u001b[0m 3ms/step - attrition_output_accuracy: 0.8934 - attrition_output_loss: 0.2511 - department_output_accuracy: 0.7971 - department_output_loss: 0.5232 - loss: 0.7743 - val_attrition_output_accuracy: 0.8178 - val_attrition_output_loss: 0.4357 - val_department_output_accuracy: 0.5466 - val_department_output_loss: 0.8929 - val_loss: 1.3663\n",
      "Epoch 29/100\n",
      "\u001b[1m30/30\u001b[0m \u001b[32m━━━━━━━━━━━━━━━━━━━━\u001b[0m\u001b[37m\u001b[0m \u001b[1m0s\u001b[0m 3ms/step - attrition_output_accuracy: 0.8969 - attrition_output_loss: 0.2441 - department_output_accuracy: 0.7840 - department_output_loss: 0.5308 - loss: 0.7754 - val_attrition_output_accuracy: 0.8347 - val_attrition_output_loss: 0.4344 - val_department_output_accuracy: 0.5593 - val_department_output_loss: 0.9119 - val_loss: 1.3833\n",
      "Epoch 30/100\n",
      "\u001b[1m30/30\u001b[0m \u001b[32m━━━━━━━━━━━━━━━━━━━━\u001b[0m\u001b[37m\u001b[0m \u001b[1m0s\u001b[0m 3ms/step - attrition_output_accuracy: 0.8869 - attrition_output_loss: 0.2666 - department_output_accuracy: 0.8051 - department_output_loss: 0.5220 - loss: 0.7886 - val_attrition_output_accuracy: 0.8305 - val_attrition_output_loss: 0.4378 - val_department_output_accuracy: 0.5508 - val_department_output_loss: 0.9234 - val_loss: 1.3989\n",
      "Epoch 31/100\n",
      "\u001b[1m30/30\u001b[0m \u001b[32m━━━━━━━━━━━━━━━━━━━━\u001b[0m\u001b[37m\u001b[0m \u001b[1m0s\u001b[0m 3ms/step - attrition_output_accuracy: 0.9063 - attrition_output_loss: 0.2405 - department_output_accuracy: 0.7978 - department_output_loss: 0.5302 - loss: 0.7710 - val_attrition_output_accuracy: 0.8347 - val_attrition_output_loss: 0.4427 - val_department_output_accuracy: 0.5720 - val_department_output_loss: 0.9421 - val_loss: 1.4248\n",
      "Epoch 32/100\n",
      "\u001b[1m30/30\u001b[0m \u001b[32m━━━━━━━━━━━━━━━━━━━━\u001b[0m\u001b[37m\u001b[0m \u001b[1m0s\u001b[0m 3ms/step - attrition_output_accuracy: 0.8980 - attrition_output_loss: 0.2673 - department_output_accuracy: 0.7945 - department_output_loss: 0.5009 - loss: 0.7679 - val_attrition_output_accuracy: 0.8347 - val_attrition_output_loss: 0.4490 - val_department_output_accuracy: 0.5381 - val_department_output_loss: 0.9359 - val_loss: 1.4243\n",
      "Epoch 33/100\n",
      "\u001b[1m30/30\u001b[0m \u001b[32m━━━━━━━━━━━━━━━━━━━━\u001b[0m\u001b[37m\u001b[0m \u001b[1m0s\u001b[0m 3ms/step - attrition_output_accuracy: 0.8937 - attrition_output_loss: 0.2456 - department_output_accuracy: 0.7901 - department_output_loss: 0.5097 - loss: 0.7556 - val_attrition_output_accuracy: 0.8305 - val_attrition_output_loss: 0.4570 - val_department_output_accuracy: 0.5551 - val_department_output_loss: 0.9421 - val_loss: 1.4404\n",
      "Epoch 34/100\n",
      "\u001b[1m30/30\u001b[0m \u001b[32m━━━━━━━━━━━━━━━━━━━━\u001b[0m\u001b[37m\u001b[0m \u001b[1m0s\u001b[0m 3ms/step - attrition_output_accuracy: 0.8971 - attrition_output_loss: 0.2527 - department_output_accuracy: 0.7978 - department_output_loss: 0.4906 - loss: 0.7433 - val_attrition_output_accuracy: 0.8347 - val_attrition_output_loss: 0.4551 - val_department_output_accuracy: 0.5466 - val_department_output_loss: 0.9777 - val_loss: 1.4752\n",
      "Epoch 35/100\n",
      "\u001b[1m30/30\u001b[0m \u001b[32m━━━━━━━━━━━━━━━━━━━━\u001b[0m\u001b[37m\u001b[0m \u001b[1m0s\u001b[0m 3ms/step - attrition_output_accuracy: 0.9025 - attrition_output_loss: 0.2436 - department_output_accuracy: 0.8213 - department_output_loss: 0.4738 - loss: 0.7169 - val_attrition_output_accuracy: 0.8305 - val_attrition_output_loss: 0.4640 - val_department_output_accuracy: 0.5381 - val_department_output_loss: 0.9805 - val_loss: 1.4853\n",
      "Epoch 36/100\n",
      "\u001b[1m30/30\u001b[0m \u001b[32m━━━━━━━━━━━━━━━━━━━━\u001b[0m\u001b[37m\u001b[0m \u001b[1m0s\u001b[0m 3ms/step - attrition_output_accuracy: 0.9222 - attrition_output_loss: 0.2279 - department_output_accuracy: 0.8046 - department_output_loss: 0.4838 - loss: 0.7113 - val_attrition_output_accuracy: 0.8305 - val_attrition_output_loss: 0.4668 - val_department_output_accuracy: 0.5593 - val_department_output_loss: 0.9862 - val_loss: 1.4948\n",
      "Epoch 37/100\n",
      "\u001b[1m30/30\u001b[0m \u001b[32m━━━━━━━━━━━━━━━━━━━━\u001b[0m\u001b[37m\u001b[0m \u001b[1m0s\u001b[0m 3ms/step - attrition_output_accuracy: 0.9022 - attrition_output_loss: 0.2451 - department_output_accuracy: 0.8067 - department_output_loss: 0.4694 - loss: 0.7146 - val_attrition_output_accuracy: 0.8263 - val_attrition_output_loss: 0.4801 - val_department_output_accuracy: 0.5593 - val_department_output_loss: 0.9958 - val_loss: 1.5200\n",
      "Epoch 38/100\n",
      "\u001b[1m30/30\u001b[0m \u001b[32m━━━━━━━━━━━━━━━━━━━━\u001b[0m\u001b[37m\u001b[0m \u001b[1m0s\u001b[0m 3ms/step - attrition_output_accuracy: 0.9228 - attrition_output_loss: 0.2124 - department_output_accuracy: 0.8236 - department_output_loss: 0.4467 - loss: 0.6590 - val_attrition_output_accuracy: 0.8305 - val_attrition_output_loss: 0.4775 - val_department_output_accuracy: 0.5678 - val_department_output_loss: 1.0258 - val_loss: 1.5477\n",
      "Epoch 39/100\n",
      "\u001b[1m30/30\u001b[0m \u001b[32m━━━━━━━━━━━━━━━━━━━━\u001b[0m\u001b[37m\u001b[0m \u001b[1m0s\u001b[0m 3ms/step - attrition_output_accuracy: 0.9135 - attrition_output_loss: 0.2239 - department_output_accuracy: 0.8233 - department_output_loss: 0.4485 - loss: 0.6721 - val_attrition_output_accuracy: 0.8263 - val_attrition_output_loss: 0.4821 - val_department_output_accuracy: 0.5424 - val_department_output_loss: 1.0092 - val_loss: 1.5346\n",
      "Epoch 40/100\n",
      "\u001b[1m30/30\u001b[0m \u001b[32m━━━━━━━━━━━━━━━━━━━━\u001b[0m\u001b[37m\u001b[0m \u001b[1m0s\u001b[0m 3ms/step - attrition_output_accuracy: 0.9176 - attrition_output_loss: 0.2280 - department_output_accuracy: 0.8549 - department_output_loss: 0.4114 - loss: 0.6399 - val_attrition_output_accuracy: 0.8263 - val_attrition_output_loss: 0.4834 - val_department_output_accuracy: 0.5636 - val_department_output_loss: 1.0453 - val_loss: 1.5757\n",
      "Epoch 41/100\n",
      "\u001b[1m30/30\u001b[0m \u001b[32m━━━━━━━━━━━━━━━━━━━━\u001b[0m\u001b[37m\u001b[0m \u001b[1m0s\u001b[0m 3ms/step - attrition_output_accuracy: 0.9121 - attrition_output_loss: 0.2351 - department_output_accuracy: 0.8373 - department_output_loss: 0.4278 - loss: 0.6629 - val_attrition_output_accuracy: 0.8263 - val_attrition_output_loss: 0.4906 - val_department_output_accuracy: 0.5466 - val_department_output_loss: 1.0363 - val_loss: 1.5732\n",
      "Epoch 42/100\n",
      "\u001b[1m30/30\u001b[0m \u001b[32m━━━━━━━━━━━━━━━━━━━━\u001b[0m\u001b[37m\u001b[0m \u001b[1m0s\u001b[0m 3ms/step - attrition_output_accuracy: 0.9133 - attrition_output_loss: 0.2168 - department_output_accuracy: 0.8556 - department_output_loss: 0.4020 - loss: 0.6190 - val_attrition_output_accuracy: 0.8220 - val_attrition_output_loss: 0.4994 - val_department_output_accuracy: 0.5508 - val_department_output_loss: 1.0636 - val_loss: 1.6109\n",
      "Epoch 43/100\n",
      "\u001b[1m30/30\u001b[0m \u001b[32m━━━━━━━━━━━━━━━━━━━━\u001b[0m\u001b[37m\u001b[0m \u001b[1m0s\u001b[0m 4ms/step - attrition_output_accuracy: 0.8978 - attrition_output_loss: 0.2339 - department_output_accuracy: 0.8590 - department_output_loss: 0.3961 - loss: 0.6302 - val_attrition_output_accuracy: 0.8220 - val_attrition_output_loss: 0.5017 - val_department_output_accuracy: 0.5678 - val_department_output_loss: 1.0536 - val_loss: 1.6028\n",
      "Epoch 44/100\n",
      "\u001b[1m30/30\u001b[0m \u001b[32m━━━━━━━━━━━━━━━━━━━━\u001b[0m\u001b[37m\u001b[0m \u001b[1m0s\u001b[0m 3ms/step - attrition_output_accuracy: 0.9199 - attrition_output_loss: 0.2146 - department_output_accuracy: 0.8660 - department_output_loss: 0.3980 - loss: 0.6129 - val_attrition_output_accuracy: 0.8178 - val_attrition_output_loss: 0.5106 - val_department_output_accuracy: 0.5508 - val_department_output_loss: 1.0697 - val_loss: 1.6317\n",
      "Epoch 45/100\n",
      "\u001b[1m30/30\u001b[0m \u001b[32m━━━━━━━━━━━━━━━━━━━━\u001b[0m\u001b[37m\u001b[0m \u001b[1m0s\u001b[0m 3ms/step - attrition_output_accuracy: 0.9235 - attrition_output_loss: 0.2205 - department_output_accuracy: 0.8388 - department_output_loss: 0.3961 - loss: 0.6169 - val_attrition_output_accuracy: 0.8178 - val_attrition_output_loss: 0.5056 - val_department_output_accuracy: 0.5466 - val_department_output_loss: 1.0942 - val_loss: 1.6545\n",
      "Epoch 46/100\n",
      "\u001b[1m30/30\u001b[0m \u001b[32m━━━━━━━━━━━━━━━━━━━━\u001b[0m\u001b[37m\u001b[0m \u001b[1m0s\u001b[0m 3ms/step - attrition_output_accuracy: 0.9216 - attrition_output_loss: 0.1994 - department_output_accuracy: 0.8702 - department_output_loss: 0.3833 - loss: 0.5826 - val_attrition_output_accuracy: 0.8008 - val_attrition_output_loss: 0.5312 - val_department_output_accuracy: 0.5636 - val_department_output_loss: 1.1533 - val_loss: 1.7349\n",
      "Epoch 47/100\n",
      "\u001b[1m30/30\u001b[0m \u001b[32m━━━━━━━━━━━━━━━━━━━━\u001b[0m\u001b[37m\u001b[0m \u001b[1m0s\u001b[0m 3ms/step - attrition_output_accuracy: 0.9186 - attrition_output_loss: 0.1912 - department_output_accuracy: 0.8508 - department_output_loss: 0.3758 - loss: 0.5668 - val_attrition_output_accuracy: 0.8051 - val_attrition_output_loss: 0.5198 - val_department_output_accuracy: 0.5636 - val_department_output_loss: 1.1276 - val_loss: 1.7016\n",
      "Epoch 48/100\n",
      "\u001b[1m30/30\u001b[0m \u001b[32m━━━━━━━━━━━━━━━━━━━━\u001b[0m\u001b[37m\u001b[0m \u001b[1m0s\u001b[0m 3ms/step - attrition_output_accuracy: 0.9234 - attrition_output_loss: 0.2020 - department_output_accuracy: 0.8369 - department_output_loss: 0.4031 - loss: 0.6052 - val_attrition_output_accuracy: 0.8136 - val_attrition_output_loss: 0.5187 - val_department_output_accuracy: 0.5847 - val_department_output_loss: 1.1379 - val_loss: 1.7137\n",
      "Epoch 49/100\n",
      "\u001b[1m30/30\u001b[0m \u001b[32m━━━━━━━━━━━━━━━━━━━━\u001b[0m\u001b[37m\u001b[0m \u001b[1m0s\u001b[0m 3ms/step - attrition_output_accuracy: 0.9278 - attrition_output_loss: 0.1813 - department_output_accuracy: 0.8638 - department_output_loss: 0.3456 - loss: 0.5268 - val_attrition_output_accuracy: 0.8093 - val_attrition_output_loss: 0.5229 - val_department_output_accuracy: 0.5466 - val_department_output_loss: 1.1505 - val_loss: 1.7337\n",
      "Epoch 50/100\n",
      "\u001b[1m30/30\u001b[0m \u001b[32m━━━━━━━━━━━━━━━━━━━━\u001b[0m\u001b[37m\u001b[0m \u001b[1m0s\u001b[0m 3ms/step - attrition_output_accuracy: 0.9151 - attrition_output_loss: 0.2245 - department_output_accuracy: 0.8778 - department_output_loss: 0.3560 - loss: 0.5808 - val_attrition_output_accuracy: 0.8093 - val_attrition_output_loss: 0.5257 - val_department_output_accuracy: 0.5593 - val_department_output_loss: 1.2069 - val_loss: 1.7957\n",
      "Epoch 51/100\n",
      "\u001b[1m30/30\u001b[0m \u001b[32m━━━━━━━━━━━━━━━━━━━━\u001b[0m\u001b[37m\u001b[0m \u001b[1m0s\u001b[0m 3ms/step - attrition_output_accuracy: 0.9319 - attrition_output_loss: 0.2006 - department_output_accuracy: 0.8685 - department_output_loss: 0.3550 - loss: 0.5548 - val_attrition_output_accuracy: 0.8136 - val_attrition_output_loss: 0.5346 - val_department_output_accuracy: 0.5381 - val_department_output_loss: 1.1774 - val_loss: 1.7731\n",
      "Epoch 52/100\n",
      "\u001b[1m30/30\u001b[0m \u001b[32m━━━━━━━━━━━━━━━━━━━━\u001b[0m\u001b[37m\u001b[0m \u001b[1m0s\u001b[0m 3ms/step - attrition_output_accuracy: 0.9382 - attrition_output_loss: 0.1788 - department_output_accuracy: 0.8948 - department_output_loss: 0.3268 - loss: 0.5051 - val_attrition_output_accuracy: 0.8093 - val_attrition_output_loss: 0.5426 - val_department_output_accuracy: 0.5678 - val_department_output_loss: 1.2047 - val_loss: 1.8107\n",
      "Epoch 53/100\n",
      "\u001b[1m30/30\u001b[0m \u001b[32m━━━━━━━━━━━━━━━━━━━━\u001b[0m\u001b[37m\u001b[0m \u001b[1m0s\u001b[0m 3ms/step - attrition_output_accuracy: 0.9307 - attrition_output_loss: 0.1872 - department_output_accuracy: 0.8732 - department_output_loss: 0.3297 - loss: 0.5168 - val_attrition_output_accuracy: 0.7966 - val_attrition_output_loss: 0.5439 - val_department_output_accuracy: 0.5847 - val_department_output_loss: 1.2392 - val_loss: 1.8526\n",
      "Epoch 54/100\n",
      "\u001b[1m30/30\u001b[0m \u001b[32m━━━━━━━━━━━━━━━━━━━━\u001b[0m\u001b[37m\u001b[0m \u001b[1m0s\u001b[0m 3ms/step - attrition_output_accuracy: 0.9270 - attrition_output_loss: 0.2137 - department_output_accuracy: 0.8758 - department_output_loss: 0.3469 - loss: 0.5608 - val_attrition_output_accuracy: 0.8008 - val_attrition_output_loss: 0.5486 - val_department_output_accuracy: 0.5381 - val_department_output_loss: 1.2298 - val_loss: 1.8462\n",
      "Epoch 55/100\n",
      "\u001b[1m30/30\u001b[0m \u001b[32m━━━━━━━━━━━━━━━━━━━━\u001b[0m\u001b[37m\u001b[0m \u001b[1m0s\u001b[0m 3ms/step - attrition_output_accuracy: 0.9235 - attrition_output_loss: 0.1847 - department_output_accuracy: 0.8949 - department_output_loss: 0.3074 - loss: 0.4920 - val_attrition_output_accuracy: 0.8008 - val_attrition_output_loss: 0.5635 - val_department_output_accuracy: 0.5466 - val_department_output_loss: 1.2552 - val_loss: 1.8864\n",
      "Epoch 56/100\n",
      "\u001b[1m30/30\u001b[0m \u001b[32m━━━━━━━━━━━━━━━━━━━━\u001b[0m\u001b[37m\u001b[0m \u001b[1m0s\u001b[0m 3ms/step - attrition_output_accuracy: 0.9392 - attrition_output_loss: 0.1680 - department_output_accuracy: 0.8978 - department_output_loss: 0.3204 - loss: 0.4885 - val_attrition_output_accuracy: 0.8051 - val_attrition_output_loss: 0.5574 - val_department_output_accuracy: 0.5508 - val_department_output_loss: 1.2817 - val_loss: 1.9126\n",
      "Epoch 57/100\n",
      "\u001b[1m30/30\u001b[0m \u001b[32m━━━━━━━━━━━━━━━━━━━━\u001b[0m\u001b[37m\u001b[0m \u001b[1m0s\u001b[0m 3ms/step - attrition_output_accuracy: 0.9411 - attrition_output_loss: 0.1565 - department_output_accuracy: 0.8956 - department_output_loss: 0.3132 - loss: 0.4696 - val_attrition_output_accuracy: 0.8051 - val_attrition_output_loss: 0.5692 - val_department_output_accuracy: 0.5424 - val_department_output_loss: 1.3198 - val_loss: 1.9561\n",
      "Epoch 58/100\n",
      "\u001b[1m30/30\u001b[0m \u001b[32m━━━━━━━━━━━━━━━━━━━━\u001b[0m\u001b[37m\u001b[0m \u001b[1m0s\u001b[0m 3ms/step - attrition_output_accuracy: 0.9335 - attrition_output_loss: 0.1734 - department_output_accuracy: 0.9028 - department_output_loss: 0.2874 - loss: 0.4610 - val_attrition_output_accuracy: 0.7966 - val_attrition_output_loss: 0.5676 - val_department_output_accuracy: 0.5339 - val_department_output_loss: 1.3165 - val_loss: 1.9595\n",
      "Epoch 59/100\n",
      "\u001b[1m30/30\u001b[0m \u001b[32m━━━━━━━━━━━━━━━━━━━━\u001b[0m\u001b[37m\u001b[0m \u001b[1m0s\u001b[0m 3ms/step - attrition_output_accuracy: 0.9460 - attrition_output_loss: 0.1663 - department_output_accuracy: 0.9129 - department_output_loss: 0.2726 - loss: 0.4389 - val_attrition_output_accuracy: 0.7966 - val_attrition_output_loss: 0.5787 - val_department_output_accuracy: 0.5508 - val_department_output_loss: 1.3478 - val_loss: 2.0080\n",
      "Epoch 60/100\n",
      "\u001b[1m30/30\u001b[0m \u001b[32m━━━━━━━━━━━━━━━━━━━━\u001b[0m\u001b[37m\u001b[0m \u001b[1m0s\u001b[0m 3ms/step - attrition_output_accuracy: 0.9315 - attrition_output_loss: 0.1802 - department_output_accuracy: 0.9123 - department_output_loss: 0.2651 - loss: 0.4454 - val_attrition_output_accuracy: 0.7966 - val_attrition_output_loss: 0.5816 - val_department_output_accuracy: 0.5424 - val_department_output_loss: 1.3601 - val_loss: 2.0154\n",
      "Epoch 61/100\n",
      "\u001b[1m30/30\u001b[0m \u001b[32m━━━━━━━━━━━━━━━━━━━━\u001b[0m\u001b[37m\u001b[0m \u001b[1m0s\u001b[0m 3ms/step - attrition_output_accuracy: 0.9475 - attrition_output_loss: 0.1515 - department_output_accuracy: 0.9266 - department_output_loss: 0.2589 - loss: 0.4103 - val_attrition_output_accuracy: 0.7966 - val_attrition_output_loss: 0.5914 - val_department_output_accuracy: 0.5593 - val_department_output_loss: 1.3881 - val_loss: 2.0658\n",
      "Epoch 62/100\n",
      "\u001b[1m30/30\u001b[0m \u001b[32m━━━━━━━━━━━━━━━━━━━━\u001b[0m\u001b[37m\u001b[0m \u001b[1m0s\u001b[0m 3ms/step - attrition_output_accuracy: 0.9474 - attrition_output_loss: 0.1590 - department_output_accuracy: 0.9116 - department_output_loss: 0.2576 - loss: 0.4161 - val_attrition_output_accuracy: 0.7924 - val_attrition_output_loss: 0.6024 - val_department_output_accuracy: 0.5508 - val_department_output_loss: 1.4263 - val_loss: 2.1116\n",
      "Epoch 63/100\n",
      "\u001b[1m30/30\u001b[0m \u001b[32m━━━━━━━━━━━━━━━━━━━━\u001b[0m\u001b[37m\u001b[0m \u001b[1m0s\u001b[0m 3ms/step - attrition_output_accuracy: 0.9306 - attrition_output_loss: 0.1646 - department_output_accuracy: 0.9323 - department_output_loss: 0.2403 - loss: 0.4047 - val_attrition_output_accuracy: 0.8051 - val_attrition_output_loss: 0.5953 - val_department_output_accuracy: 0.5254 - val_department_output_loss: 1.4276 - val_loss: 2.1012\n",
      "Epoch 64/100\n",
      "\u001b[1m30/30\u001b[0m \u001b[32m━━━━━━━━━━━━━━━━━━━━\u001b[0m\u001b[37m\u001b[0m \u001b[1m0s\u001b[0m 3ms/step - attrition_output_accuracy: 0.9409 - attrition_output_loss: 0.1587 - department_output_accuracy: 0.9291 - department_output_loss: 0.2453 - loss: 0.4044 - val_attrition_output_accuracy: 0.7966 - val_attrition_output_loss: 0.6177 - val_department_output_accuracy: 0.5763 - val_department_output_loss: 1.4409 - val_loss: 2.1446\n",
      "Epoch 65/100\n",
      "\u001b[1m30/30\u001b[0m \u001b[32m━━━━━━━━━━━━━━━━━━━━\u001b[0m\u001b[37m\u001b[0m \u001b[1m0s\u001b[0m 3ms/step - attrition_output_accuracy: 0.9437 - attrition_output_loss: 0.1425 - department_output_accuracy: 0.9169 - department_output_loss: 0.2503 - loss: 0.3930 - val_attrition_output_accuracy: 0.7881 - val_attrition_output_loss: 0.5994 - val_department_output_accuracy: 0.5381 - val_department_output_loss: 1.4672 - val_loss: 2.1612\n",
      "Epoch 66/100\n",
      "\u001b[1m30/30\u001b[0m \u001b[32m━━━━━━━━━━━━━━━━━━━━\u001b[0m\u001b[37m\u001b[0m \u001b[1m0s\u001b[0m 3ms/step - attrition_output_accuracy: 0.9430 - attrition_output_loss: 0.1463 - department_output_accuracy: 0.9205 - department_output_loss: 0.2508 - loss: 0.3972 - val_attrition_output_accuracy: 0.7924 - val_attrition_output_loss: 0.6237 - val_department_output_accuracy: 0.5508 - val_department_output_loss: 1.4803 - val_loss: 2.1915\n",
      "Epoch 67/100\n",
      "\u001b[1m30/30\u001b[0m \u001b[32m━━━━━━━━━━━━━━━━━━━━\u001b[0m\u001b[37m\u001b[0m \u001b[1m0s\u001b[0m 3ms/step - attrition_output_accuracy: 0.9415 - attrition_output_loss: 0.1564 - department_output_accuracy: 0.9306 - department_output_loss: 0.2257 - loss: 0.3820 - val_attrition_output_accuracy: 0.7881 - val_attrition_output_loss: 0.6289 - val_department_output_accuracy: 0.5551 - val_department_output_loss: 1.5428 - val_loss: 2.2635\n",
      "Epoch 68/100\n",
      "\u001b[1m30/30\u001b[0m \u001b[32m━━━━━━━━━━━━━━━━━━━━\u001b[0m\u001b[37m\u001b[0m \u001b[1m0s\u001b[0m 3ms/step - attrition_output_accuracy: 0.9520 - attrition_output_loss: 0.1597 - department_output_accuracy: 0.9191 - department_output_loss: 0.2359 - loss: 0.3959 - val_attrition_output_accuracy: 0.7924 - val_attrition_output_loss: 0.6419 - val_department_output_accuracy: 0.5551 - val_department_output_loss: 1.5220 - val_loss: 2.2617\n",
      "Epoch 69/100\n",
      "\u001b[1m30/30\u001b[0m \u001b[32m━━━━━━━━━━━━━━━━━━━━\u001b[0m\u001b[37m\u001b[0m \u001b[1m0s\u001b[0m 3ms/step - attrition_output_accuracy: 0.9526 - attrition_output_loss: 0.1489 - department_output_accuracy: 0.9226 - department_output_loss: 0.2280 - loss: 0.3771 - val_attrition_output_accuracy: 0.7881 - val_attrition_output_loss: 0.6394 - val_department_output_accuracy: 0.5424 - val_department_output_loss: 1.5536 - val_loss: 2.2894\n",
      "Epoch 70/100\n",
      "\u001b[1m30/30\u001b[0m \u001b[32m━━━━━━━━━━━━━━━━━━━━\u001b[0m\u001b[37m\u001b[0m \u001b[1m0s\u001b[0m 3ms/step - attrition_output_accuracy: 0.9570 - attrition_output_loss: 0.1397 - department_output_accuracy: 0.9256 - department_output_loss: 0.2298 - loss: 0.3695 - val_attrition_output_accuracy: 0.7881 - val_attrition_output_loss: 0.6556 - val_department_output_accuracy: 0.5381 - val_department_output_loss: 1.5799 - val_loss: 2.3324\n",
      "Epoch 71/100\n",
      "\u001b[1m30/30\u001b[0m \u001b[32m━━━━━━━━━━━━━━━━━━━━\u001b[0m\u001b[37m\u001b[0m \u001b[1m0s\u001b[0m 3ms/step - attrition_output_accuracy: 0.9474 - attrition_output_loss: 0.1629 - department_output_accuracy: 0.9445 - department_output_loss: 0.2010 - loss: 0.3640 - val_attrition_output_accuracy: 0.7839 - val_attrition_output_loss: 0.6536 - val_department_output_accuracy: 0.5381 - val_department_output_loss: 1.5910 - val_loss: 2.3379\n",
      "Epoch 72/100\n",
      "\u001b[1m30/30\u001b[0m \u001b[32m━━━━━━━━━━━━━━━━━━━━\u001b[0m\u001b[37m\u001b[0m \u001b[1m0s\u001b[0m 3ms/step - attrition_output_accuracy: 0.9610 - attrition_output_loss: 0.1346 - department_output_accuracy: 0.9475 - department_output_loss: 0.1958 - loss: 0.3305 - val_attrition_output_accuracy: 0.7839 - val_attrition_output_loss: 0.6614 - val_department_output_accuracy: 0.5381 - val_department_output_loss: 1.6351 - val_loss: 2.3935\n",
      "Epoch 73/100\n",
      "\u001b[1m30/30\u001b[0m \u001b[32m━━━━━━━━━━━━━━━━━━━━\u001b[0m\u001b[37m\u001b[0m \u001b[1m0s\u001b[0m 3ms/step - attrition_output_accuracy: 0.9507 - attrition_output_loss: 0.1251 - department_output_accuracy: 0.9587 - department_output_loss: 0.1856 - loss: 0.3108 - val_attrition_output_accuracy: 0.7881 - val_attrition_output_loss: 0.6656 - val_department_output_accuracy: 0.5339 - val_department_output_loss: 1.6755 - val_loss: 2.4449\n",
      "Epoch 74/100\n",
      "\u001b[1m30/30\u001b[0m \u001b[32m━━━━━━━━━━━━━━━━━━━━\u001b[0m\u001b[37m\u001b[0m \u001b[1m0s\u001b[0m 3ms/step - attrition_output_accuracy: 0.9577 - attrition_output_loss: 0.1411 - department_output_accuracy: 0.9506 - department_output_loss: 0.1955 - loss: 0.3365 - val_attrition_output_accuracy: 0.7924 - val_attrition_output_loss: 0.6770 - val_department_output_accuracy: 0.5381 - val_department_output_loss: 1.6784 - val_loss: 2.4608\n",
      "Epoch 75/100\n",
      "\u001b[1m30/30\u001b[0m \u001b[32m━━━━━━━━━━━━━━━━━━━━\u001b[0m\u001b[37m\u001b[0m \u001b[1m0s\u001b[0m 3ms/step - attrition_output_accuracy: 0.9593 - attrition_output_loss: 0.1232 - department_output_accuracy: 0.9545 - department_output_loss: 0.1812 - loss: 0.3044 - val_attrition_output_accuracy: 0.7966 - val_attrition_output_loss: 0.6707 - val_department_output_accuracy: 0.5424 - val_department_output_loss: 1.7108 - val_loss: 2.4867\n",
      "Epoch 76/100\n",
      "\u001b[1m30/30\u001b[0m \u001b[32m━━━━━━━━━━━━━━━━━━━━\u001b[0m\u001b[37m\u001b[0m \u001b[1m0s\u001b[0m 3ms/step - attrition_output_accuracy: 0.9583 - attrition_output_loss: 0.1398 - department_output_accuracy: 0.9559 - department_output_loss: 0.1968 - loss: 0.3365 - val_attrition_output_accuracy: 0.7924 - val_attrition_output_loss: 0.6865 - val_department_output_accuracy: 0.5508 - val_department_output_loss: 1.7192 - val_loss: 2.5118\n",
      "Epoch 77/100\n",
      "\u001b[1m30/30\u001b[0m \u001b[32m━━━━━━━━━━━━━━━━━━━━\u001b[0m\u001b[37m\u001b[0m \u001b[1m0s\u001b[0m 3ms/step - attrition_output_accuracy: 0.9662 - attrition_output_loss: 0.1132 - department_output_accuracy: 0.9538 - department_output_loss: 0.1858 - loss: 0.2991 - val_attrition_output_accuracy: 0.7924 - val_attrition_output_loss: 0.7051 - val_department_output_accuracy: 0.5424 - val_department_output_loss: 1.7640 - val_loss: 2.5755\n",
      "Epoch 78/100\n",
      "\u001b[1m30/30\u001b[0m \u001b[32m━━━━━━━━━━━━━━━━━━━━\u001b[0m\u001b[37m\u001b[0m \u001b[1m0s\u001b[0m 3ms/step - attrition_output_accuracy: 0.9572 - attrition_output_loss: 0.1273 - department_output_accuracy: 0.9550 - department_output_loss: 0.1637 - loss: 0.2909 - val_attrition_output_accuracy: 0.7924 - val_attrition_output_loss: 0.6937 - val_department_output_accuracy: 0.5466 - val_department_output_loss: 1.8129 - val_loss: 2.6218\n",
      "Epoch 79/100\n",
      "\u001b[1m30/30\u001b[0m \u001b[32m━━━━━━━━━━━━━━━━━━━━\u001b[0m\u001b[37m\u001b[0m \u001b[1m0s\u001b[0m 3ms/step - attrition_output_accuracy: 0.9609 - attrition_output_loss: 0.1113 - department_output_accuracy: 0.9516 - department_output_loss: 0.1807 - loss: 0.2918 - val_attrition_output_accuracy: 0.7881 - val_attrition_output_loss: 0.7252 - val_department_output_accuracy: 0.5339 - val_department_output_loss: 1.8131 - val_loss: 2.6468\n",
      "Epoch 80/100\n",
      "\u001b[1m30/30\u001b[0m \u001b[32m━━━━━━━━━━━━━━━━━━━━\u001b[0m\u001b[37m\u001b[0m \u001b[1m0s\u001b[0m 3ms/step - attrition_output_accuracy: 0.9610 - attrition_output_loss: 0.1371 - department_output_accuracy: 0.9642 - department_output_loss: 0.1667 - loss: 0.3037 - val_attrition_output_accuracy: 0.7839 - val_attrition_output_loss: 0.7118 - val_department_output_accuracy: 0.5508 - val_department_output_loss: 1.8344 - val_loss: 2.6583\n",
      "Epoch 81/100\n",
      "\u001b[1m30/30\u001b[0m \u001b[32m━━━━━━━━━━━━━━━━━━━━\u001b[0m\u001b[37m\u001b[0m \u001b[1m0s\u001b[0m 3ms/step - attrition_output_accuracy: 0.9692 - attrition_output_loss: 0.0997 - department_output_accuracy: 0.9632 - department_output_loss: 0.1513 - loss: 0.2512 - val_attrition_output_accuracy: 0.7585 - val_attrition_output_loss: 0.7260 - val_department_output_accuracy: 0.5466 - val_department_output_loss: 1.8382 - val_loss: 2.6764\n",
      "Epoch 82/100\n",
      "\u001b[1m30/30\u001b[0m \u001b[32m━━━━━━━━━━━━━━━━━━━━\u001b[0m\u001b[37m\u001b[0m \u001b[1m0s\u001b[0m 3ms/step - attrition_output_accuracy: 0.9704 - attrition_output_loss: 0.1021 - department_output_accuracy: 0.9582 - department_output_loss: 0.1569 - loss: 0.2587 - val_attrition_output_accuracy: 0.7754 - val_attrition_output_loss: 0.7465 - val_department_output_accuracy: 0.5508 - val_department_output_loss: 1.8990 - val_loss: 2.7659\n",
      "Epoch 83/100\n",
      "\u001b[1m30/30\u001b[0m \u001b[32m━━━━━━━━━━━━━━━━━━━━\u001b[0m\u001b[37m\u001b[0m \u001b[1m0s\u001b[0m 3ms/step - attrition_output_accuracy: 0.9700 - attrition_output_loss: 0.0992 - department_output_accuracy: 0.9591 - department_output_loss: 0.1657 - loss: 0.2649 - val_attrition_output_accuracy: 0.7881 - val_attrition_output_loss: 0.7291 - val_department_output_accuracy: 0.5297 - val_department_output_loss: 1.9117 - val_loss: 2.7534\n",
      "Epoch 84/100\n",
      "\u001b[1m30/30\u001b[0m \u001b[32m━━━━━━━━━━━━━━━━━━━━\u001b[0m\u001b[37m\u001b[0m \u001b[1m0s\u001b[0m 3ms/step - attrition_output_accuracy: 0.9758 - attrition_output_loss: 0.0928 - department_output_accuracy: 0.9624 - department_output_loss: 0.1570 - loss: 0.2498 - val_attrition_output_accuracy: 0.7839 - val_attrition_output_loss: 0.7378 - val_department_output_accuracy: 0.5466 - val_department_output_loss: 1.9267 - val_loss: 2.7823\n",
      "Epoch 85/100\n",
      "\u001b[1m30/30\u001b[0m \u001b[32m━━━━━━━━━━━━━━━━━━━━\u001b[0m\u001b[37m\u001b[0m \u001b[1m0s\u001b[0m 3ms/step - attrition_output_accuracy: 0.9794 - attrition_output_loss: 0.0965 - department_output_accuracy: 0.9655 - department_output_loss: 0.1429 - loss: 0.2395 - val_attrition_output_accuracy: 0.7966 - val_attrition_output_loss: 0.7421 - val_department_output_accuracy: 0.5381 - val_department_output_loss: 1.9382 - val_loss: 2.8006\n",
      "Epoch 86/100\n",
      "\u001b[1m30/30\u001b[0m \u001b[32m━━━━━━━━━━━━━━━━━━━━\u001b[0m\u001b[37m\u001b[0m \u001b[1m0s\u001b[0m 3ms/step - attrition_output_accuracy: 0.9668 - attrition_output_loss: 0.1230 - department_output_accuracy: 0.9724 - department_output_loss: 0.1363 - loss: 0.2590 - val_attrition_output_accuracy: 0.7839 - val_attrition_output_loss: 0.7626 - val_department_output_accuracy: 0.5212 - val_department_output_loss: 2.0019 - val_loss: 2.8825\n",
      "Epoch 87/100\n",
      "\u001b[1m30/30\u001b[0m \u001b[32m━━━━━━━━━━━━━━━━━━━━\u001b[0m\u001b[37m\u001b[0m \u001b[1m0s\u001b[0m 3ms/step - attrition_output_accuracy: 0.9774 - attrition_output_loss: 0.0839 - department_output_accuracy: 0.9616 - department_output_loss: 0.1520 - loss: 0.2361 - val_attrition_output_accuracy: 0.7797 - val_attrition_output_loss: 0.7838 - val_department_output_accuracy: 0.5551 - val_department_output_loss: 2.0379 - val_loss: 2.9516\n",
      "Epoch 88/100\n",
      "\u001b[1m30/30\u001b[0m \u001b[32m━━━━━━━━━━━━━━━━━━━━\u001b[0m\u001b[37m\u001b[0m \u001b[1m0s\u001b[0m 3ms/step - attrition_output_accuracy: 0.9746 - attrition_output_loss: 0.1048 - department_output_accuracy: 0.9745 - department_output_loss: 0.1429 - loss: 0.2477 - val_attrition_output_accuracy: 0.7881 - val_attrition_output_loss: 0.7696 - val_department_output_accuracy: 0.5424 - val_department_output_loss: 2.0361 - val_loss: 2.9307\n",
      "Epoch 89/100\n",
      "\u001b[1m30/30\u001b[0m \u001b[32m━━━━━━━━━━━━━━━━━━━━\u001b[0m\u001b[37m\u001b[0m \u001b[1m0s\u001b[0m 3ms/step - attrition_output_accuracy: 0.9754 - attrition_output_loss: 0.1013 - department_output_accuracy: 0.9684 - department_output_loss: 0.1424 - loss: 0.2437 - val_attrition_output_accuracy: 0.7669 - val_attrition_output_loss: 0.7849 - val_department_output_accuracy: 0.5297 - val_department_output_loss: 2.0348 - val_loss: 2.9483\n",
      "Epoch 90/100\n",
      "\u001b[1m30/30\u001b[0m \u001b[32m━━━━━━━━━━━━━━━━━━━━\u001b[0m\u001b[37m\u001b[0m \u001b[1m0s\u001b[0m 3ms/step - attrition_output_accuracy: 0.9859 - attrition_output_loss: 0.0865 - department_output_accuracy: 0.9712 - department_output_loss: 0.1250 - loss: 0.2115 - val_attrition_output_accuracy: 0.7712 - val_attrition_output_loss: 0.7942 - val_department_output_accuracy: 0.5466 - val_department_output_loss: 2.1070 - val_loss: 3.0280\n",
      "Epoch 91/100\n",
      "\u001b[1m30/30\u001b[0m \u001b[32m━━━━━━━━━━━━━━━━━━━━\u001b[0m\u001b[37m\u001b[0m \u001b[1m0s\u001b[0m 3ms/step - attrition_output_accuracy: 0.9746 - attrition_output_loss: 0.0914 - department_output_accuracy: 0.9786 - department_output_loss: 0.1103 - loss: 0.2018 - val_attrition_output_accuracy: 0.7881 - val_attrition_output_loss: 0.8108 - val_department_output_accuracy: 0.5297 - val_department_output_loss: 2.1912 - val_loss: 3.1339\n",
      "Epoch 92/100\n",
      "\u001b[1m30/30\u001b[0m \u001b[32m━━━━━━━━━━━━━━━━━━━━\u001b[0m\u001b[37m\u001b[0m \u001b[1m0s\u001b[0m 3ms/step - attrition_output_accuracy: 0.9820 - attrition_output_loss: 0.0770 - department_output_accuracy: 0.9830 - department_output_loss: 0.1149 - loss: 0.1919 - val_attrition_output_accuracy: 0.7712 - val_attrition_output_loss: 0.8035 - val_department_output_accuracy: 0.5381 - val_department_output_loss: 2.1447 - val_loss: 3.0838\n",
      "Epoch 93/100\n",
      "\u001b[1m30/30\u001b[0m \u001b[32m━━━━━━━━━━━━━━━━━━━━\u001b[0m\u001b[37m\u001b[0m \u001b[1m0s\u001b[0m 3ms/step - attrition_output_accuracy: 0.9801 - attrition_output_loss: 0.0834 - department_output_accuracy: 0.9799 - department_output_loss: 0.1140 - loss: 0.1974 - val_attrition_output_accuracy: 0.7669 - val_attrition_output_loss: 0.8070 - val_department_output_accuracy: 0.5466 - val_department_output_loss: 2.2073 - val_loss: 3.1492\n",
      "Epoch 94/100\n",
      "\u001b[1m30/30\u001b[0m \u001b[32m━━━━━━━━━━━━━━━━━━━━\u001b[0m\u001b[37m\u001b[0m \u001b[1m0s\u001b[0m 3ms/step - attrition_output_accuracy: 0.9801 - attrition_output_loss: 0.0910 - department_output_accuracy: 0.9838 - department_output_loss: 0.1198 - loss: 0.2107 - val_attrition_output_accuracy: 0.7839 - val_attrition_output_loss: 0.8328 - val_department_output_accuracy: 0.5678 - val_department_output_loss: 2.2782 - val_loss: 3.2499\n",
      "Epoch 95/100\n",
      "\u001b[1m30/30\u001b[0m \u001b[32m━━━━━━━━━━━━━━━━━━━━\u001b[0m\u001b[37m\u001b[0m \u001b[1m0s\u001b[0m 3ms/step - attrition_output_accuracy: 0.9849 - attrition_output_loss: 0.0738 - department_output_accuracy: 0.9741 - department_output_loss: 0.1154 - loss: 0.1892 - val_attrition_output_accuracy: 0.7797 - val_attrition_output_loss: 0.8299 - val_department_output_accuracy: 0.5169 - val_department_output_loss: 2.2369 - val_loss: 3.2143\n",
      "Epoch 96/100\n",
      "\u001b[1m30/30\u001b[0m \u001b[32m━━━━━━━━━━━━━━━━━━━━\u001b[0m\u001b[37m\u001b[0m \u001b[1m0s\u001b[0m 3ms/step - attrition_output_accuracy: 0.9851 - attrition_output_loss: 0.0700 - department_output_accuracy: 0.9834 - department_output_loss: 0.1086 - loss: 0.1787 - val_attrition_output_accuracy: 0.7966 - val_attrition_output_loss: 0.8432 - val_department_output_accuracy: 0.5508 - val_department_output_loss: 2.3403 - val_loss: 3.3304\n",
      "Epoch 97/100\n",
      "\u001b[1m30/30\u001b[0m \u001b[32m━━━━━━━━━━━━━━━━━━━━\u001b[0m\u001b[37m\u001b[0m \u001b[1m0s\u001b[0m 3ms/step - attrition_output_accuracy: 0.9829 - attrition_output_loss: 0.0661 - department_output_accuracy: 0.9735 - department_output_loss: 0.1095 - loss: 0.1755 - val_attrition_output_accuracy: 0.7839 - val_attrition_output_loss: 0.8644 - val_department_output_accuracy: 0.5339 - val_department_output_loss: 2.3742 - val_loss: 3.3818\n",
      "Epoch 98/100\n",
      "\u001b[1m30/30\u001b[0m \u001b[32m━━━━━━━━━━━━━━━━━━━━\u001b[0m\u001b[37m\u001b[0m \u001b[1m0s\u001b[0m 3ms/step - attrition_output_accuracy: 0.9884 - attrition_output_loss: 0.0627 - department_output_accuracy: 0.9675 - department_output_loss: 0.1354 - loss: 0.1981 - val_attrition_output_accuracy: 0.7797 - val_attrition_output_loss: 0.8389 - val_department_output_accuracy: 0.5297 - val_department_output_loss: 2.3930 - val_loss: 3.3872\n",
      "Epoch 99/100\n",
      "\u001b[1m30/30\u001b[0m \u001b[32m━━━━━━━━━━━━━━━━━━━━\u001b[0m\u001b[37m\u001b[0m \u001b[1m0s\u001b[0m 3ms/step - attrition_output_accuracy: 0.9874 - attrition_output_loss: 0.0687 - department_output_accuracy: 0.9862 - department_output_loss: 0.0959 - loss: 0.1647 - val_attrition_output_accuracy: 0.7839 - val_attrition_output_loss: 0.8647 - val_department_output_accuracy: 0.5169 - val_department_output_loss: 2.4078 - val_loss: 3.4265\n",
      "Epoch 100/100\n",
      "\u001b[1m30/30\u001b[0m \u001b[32m━━━━━━━━━━━━━━━━━━━━\u001b[0m\u001b[37m\u001b[0m \u001b[1m0s\u001b[0m 3ms/step - attrition_output_accuracy: 0.9894 - attrition_output_loss: 0.0681 - department_output_accuracy: 0.9873 - department_output_loss: 0.0958 - loss: 0.1639 - val_attrition_output_accuracy: 0.7797 - val_attrition_output_loss: 0.8629 - val_department_output_accuracy: 0.5042 - val_department_output_loss: 2.4284 - val_loss: 3.4460\n"
     ]
    }
   ],
   "source": [
    "# Train the model\n",
    "history = model.fit(X_train_scaled,\n",
    "                    {'department_output': y_train_department_encoded, 'attrition_output': y_train_attrition_encoded},\n",
    "                    epochs=100,\n",
    "                    batch_size=32,\n",
    "                    validation_split=0.2)  # Use 20% of the training data for validation"
   ]
  },
  {
   "cell_type": "code",
   "execution_count": 34,
   "metadata": {
    "colab": {
     "base_uri": "https://localhost:8080/"
    },
    "executionInfo": {
     "elapsed": 379,
     "status": "ok",
     "timestamp": 1730699259894,
     "user": {
      "displayName": "Alexander Booth",
      "userId": "02269714993535573104"
     },
     "user_tz": 360
    },
    "id": "VsMoaQlgGc3U",
    "outputId": "636c85ba-ee63-4087-b7d1-00b408f1055a"
   },
   "outputs": [
    {
     "name": "stdout",
     "output_type": "stream",
     "text": [
      "\u001b[1m10/10\u001b[0m \u001b[32m━━━━━━━━━━━━━━━━━━━━\u001b[0m\u001b[37m\u001b[0m \u001b[1m0s\u001b[0m 3ms/step - attrition_output_accuracy: 0.7914 - attrition_output_loss: 0.8728 - department_output_accuracy: 0.5372 - department_output_loss: 2.4439 - loss: 3.3220 \n"
     ]
    },
    {
     "data": {
      "text/plain": [
       "[3.285259246826172,\n",
       " 2.4458398818969727,\n",
       " 0.809914231300354,\n",
       " 0.8027210831642151,\n",
       " 0.5408163070678711]"
      ]
     },
     "execution_count": 34,
     "metadata": {},
     "output_type": "execute_result"
    }
   ],
   "source": [
    "# Evaluate the model with the testing data\n",
    "test_results = model.evaluate(X_test_scaled, {'department_output': y_test_department_encoded, 'attrition_output': y_test_attrition_encoded})\n",
    "test_results"
   ]
  },
  {
   "cell_type": "code",
   "execution_count": 40,
   "metadata": {
    "colab": {
     "base_uri": "https://localhost:8080/"
    },
    "executionInfo": {
     "elapsed": 113,
     "status": "ok",
     "timestamp": 1730699260004,
     "user": {
      "displayName": "Alexander Booth",
      "userId": "02269714993535573104"
     },
     "user_tz": 360
    },
    "id": "ZlCtlHi0Vt54",
    "outputId": "3a32435c-11cf-48da-81b5-1431d6c00da2"
   },
   "outputs": [
    {
     "name": "stdout",
     "output_type": "stream",
     "text": [
      "Department Accuracy: 0.5408\n",
      "Attrition Accuracy: 0.8027\n"
     ]
    }
   ],
   "source": [
    "# Print the accuracy for both department and attrition\n",
    "print(f\"Department Accuracy: {test_results[4]:.4f}\")\n",
    "print(f\"Attrition Accuracy: {test_results[3]:.4f}\")\n",
    "\n"
   ]
  },
  {
   "cell_type": "markdown",
   "metadata": {
    "id": "eGSyfsZfWOQM"
   },
   "source": [
    "# Summary\n",
    "\n",
    "In the provided space below, briefly answer the following questions.\n",
    "\n",
    "1. Is accuracy the best metric to use on this data? Why or why not?\n",
    "\n",
    "2. What activation functions did you choose for your output layers, and why?\n",
    "\n",
    "3. Can you name a few ways that this model might be improved?"
   ]
  },
  {
   "cell_type": "markdown",
   "metadata": {
    "id": "pi9SLpFnWvbF"
   },
   "source": [
    "YOUR ANSWERS HERE\n",
    "\n",
    "1. Accuracy may not be the best metric for this data because the classes are very imbalanced. This can cause bias in outcomes.\n",
    "2. For the \"Department\" output layer, a softmax activation function was used because it is suitable for multi-class classification problems.\n",
    "3. The model could be improved by performing data augmentation and optimizing the number of layers, neurons, etc\n"
   ]
  },
  {
   "cell_type": "code",
   "execution_count": null,
   "metadata": {
    "executionInfo": {
     "elapsed": 3,
     "status": "ok",
     "timestamp": 1730699260004,
     "user": {
      "displayName": "Alexander Booth",
      "userId": "02269714993535573104"
     },
     "user_tz": 360
    },
    "id": "ZuQWjGgGXZ3C"
   },
   "outputs": [],
   "source": []
  }
 ],
 "metadata": {
  "colab": {
   "provenance": []
  },
  "kernelspec": {
   "display_name": "dev",
   "language": "python",
   "name": "python3"
  },
  "language_info": {
   "codemirror_mode": {
    "name": "ipython",
    "version": 3
   },
   "file_extension": ".py",
   "mimetype": "text/x-python",
   "name": "python",
   "nbconvert_exporter": "python",
   "pygments_lexer": "ipython3",
   "version": "3.12.7"
  }
 },
 "nbformat": 4,
 "nbformat_minor": 0
}
